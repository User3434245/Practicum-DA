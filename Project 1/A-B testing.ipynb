{
 "cells": [
  {
   "cell_type": "markdown",
   "id": "c25686b3",
   "metadata": {
    "toc": true
   },
   "source": [
    "<h1>Table of Contents<span class=\"tocSkip\"></span></h1>\n",
    "<div class=\"toc\"><ul class=\"toc-item\"><li><span><a href=\"#Приоритизация-гипотез\" data-toc-modified-id=\"Приоритизация-гипотез-1\"><span class=\"toc-item-num\">1&nbsp;&nbsp;</span>Приоритизация гипотез</a></span><ul class=\"toc-item\"><li><span><a href=\"#Ознакомимся-с-данными-и-проведем-их-предобработку.\" data-toc-modified-id=\"Ознакомимся-с-данными-и-проведем-их-предобработку.-1.1\"><span class=\"toc-item-num\">1.1&nbsp;&nbsp;</span>Ознакомимся с данными и проведем их предобработку.</a></span></li><li><span><a href=\"#Применим-фреймворк-ICE-для-приоритизации-гипотез.\" data-toc-modified-id=\"Применим-фреймворк-ICE-для-приоритизации-гипотез.-1.2\"><span class=\"toc-item-num\">1.2&nbsp;&nbsp;</span>Применим фреймворк ICE для приоритизации гипотез.</a></span></li><li><span><a href=\"#Применим-фреймворк-RICE-для-приоритизации-гипотез.\" data-toc-modified-id=\"Применим-фреймворк-RICE-для-приоритизации-гипотез.-1.3\"><span class=\"toc-item-num\">1.3&nbsp;&nbsp;</span>Применим фреймворк RICE для приоритизации гипотез.</a></span></li></ul></li><li><span><a href=\"#Анализ-A/B-теста.\" data-toc-modified-id=\"Анализ-A/B-теста.-2\"><span class=\"toc-item-num\">2&nbsp;&nbsp;</span>Анализ A/B-теста.</a></span><ul class=\"toc-item\"><li><span><a href=\"#Ознакомимся-с-данными-и-проведем-их-предобработку.\" data-toc-modified-id=\"Ознакомимся-с-данными-и-проведем-их-предобработку.-2.1\"><span class=\"toc-item-num\">2.1&nbsp;&nbsp;</span>Ознакомимся с данными и проведем их предобработку.</a></span></li><li><span><a href=\"#Построим-график-кумулятивной-выручки-по-группам-по-дням.\" data-toc-modified-id=\"Построим-график-кумулятивной-выручки-по-группам-по-дням.-2.2\"><span class=\"toc-item-num\">2.2&nbsp;&nbsp;</span>Построим график кумулятивной выручки по группам по дням.</a></span></li><li><span><a href=\"#Построим-график-кумулятивного-среднего-чека-по-группам.\" data-toc-modified-id=\"Построим-график-кумулятивного-среднего-чека-по-группам.-2.3\"><span class=\"toc-item-num\">2.3&nbsp;&nbsp;</span>Построим график кумулятивного среднего чека по группам.</a></span></li><li><span><a href=\"#Построим-график-относительного-изменения-кумулятивного-среднего-чека-группы-B-к-группе-A.\" data-toc-modified-id=\"Построим-график-относительного-изменения-кумулятивного-среднего-чека-группы-B-к-группе-A.-2.4\"><span class=\"toc-item-num\">2.4&nbsp;&nbsp;</span>Построим график относительного изменения кумулятивного среднего чека группы B к группе A.</a></span></li><li><span><a href=\"#Построим-график-кумулятивного-среднего-количества-заказов-на-посетителя-по-группам.\" data-toc-modified-id=\"Построим-график-кумулятивного-среднего-количества-заказов-на-посетителя-по-группам.-2.5\"><span class=\"toc-item-num\">2.5&nbsp;&nbsp;</span>Построим график кумулятивного среднего количества заказов на посетителя по группам.</a></span></li><li><span><a href=\"#Построим-график--относительного-изменения-кумулятивного-среднего-количества-заказов-на-посетителя-группы-B-к-группе-A.\" data-toc-modified-id=\"Построим-график--относительного-изменения-кумулятивного-среднего-количества-заказов-на-посетителя-группы-B-к-группе-A.-2.6\"><span class=\"toc-item-num\">2.6&nbsp;&nbsp;</span>Построим график  относительного изменения кумулятивного среднего количества заказов на посетителя группы B к группе A.</a></span></li><li><span><a href=\"#Построим-точечный-график-количества-заказов-по-пользователям.\" data-toc-modified-id=\"Построим-точечный-график-количества-заказов-по-пользователям.-2.7\"><span class=\"toc-item-num\">2.7&nbsp;&nbsp;</span>Построим точечный график количества заказов по пользователям.</a></span></li><li><span><a href=\"#Посчитаем-95-й-и-99-й-перцентили--количества-заказов-на-пользователя.-Выберем-границу-для-определения-аномальных-заказов.\" data-toc-modified-id=\"Посчитаем-95-й-и-99-й-перцентили--количества-заказов-на-пользователя.-Выберем-границу-для-определения-аномальных-заказов.-2.8\"><span class=\"toc-item-num\">2.8&nbsp;&nbsp;</span>Посчитаем 95-й и 99-й перцентили  количества заказов на пользователя. Выберем границу для определения аномальных заказов.</a></span></li><li><span><a href=\"#Постройм-точечный-график-стоимостей-заказов.\" data-toc-modified-id=\"Постройм-точечный-график-стоимостей-заказов.-2.9\"><span class=\"toc-item-num\">2.9&nbsp;&nbsp;</span>Постройм точечный график стоимостей заказов.</a></span></li><li><span><a href=\"#Посчитаем-95-й-и-99-й-перцентили-стоимости-заказов.-Выберем-границу-для-определения-аномальных-заказов.\" data-toc-modified-id=\"Посчитаем-95-й-и-99-й-перцентили-стоимости-заказов.-Выберем-границу-для-определения-аномальных-заказов.-2.10\"><span class=\"toc-item-num\">2.10&nbsp;&nbsp;</span>Посчитаем 95-й и 99-й перцентили стоимости заказов. Выберем границу для определения аномальных заказов.</a></span></li><li><span><a href=\"#Посчитаем-статистическую-значимость-различий-в-среднем-количестве-заказов-на-посетителя-между-группами-по-«сырым»-данным.\" data-toc-modified-id=\"Посчитаем-статистическую-значимость-различий-в-среднем-количестве-заказов-на-посетителя-между-группами-по-«сырым»-данным.-2.11\"><span class=\"toc-item-num\">2.11&nbsp;&nbsp;</span>Посчитаем статистическую значимость различий в среднем количестве заказов на посетителя между группами по «сырым» данным.</a></span></li><li><span><a href=\"#Посчитаем-статистическую-значимость-различий-в-среднем-чеке-заказа-между-группами-по-«сырым»-данным.\" data-toc-modified-id=\"Посчитаем-статистическую-значимость-различий-в-среднем-чеке-заказа-между-группами-по-«сырым»-данным.-2.12\"><span class=\"toc-item-num\">2.12&nbsp;&nbsp;</span>Посчитаем статистическую значимость различий в среднем чеке заказа между группами по «сырым» данным.</a></span></li><li><span><a href=\"#Посчитаем-статистическую-значимость-различий-в-среднем-количестве-заказов-на-посетителя-между-группами-по-«очищенным»-данным.\" data-toc-modified-id=\"Посчитаем-статистическую-значимость-различий-в-среднем-количестве-заказов-на-посетителя-между-группами-по-«очищенным»-данным.-2.13\"><span class=\"toc-item-num\">2.13&nbsp;&nbsp;</span>Посчитаем статистическую значимость различий в среднем количестве заказов на посетителя между группами по «очищенным» данным.</a></span></li><li><span><a href=\"#Посчитаем-статистическую-значимость-различий-в-среднем-чеке-заказа-между-группами-по-«очищенным»-данным.\" data-toc-modified-id=\"Посчитаем-статистическую-значимость-различий-в-среднем-чеке-заказа-между-группами-по-«очищенным»-данным.-2.14\"><span class=\"toc-item-num\">2.14&nbsp;&nbsp;</span>Посчитаем статистическую значимость различий в среднем чеке заказа между группами по «очищенным» данным.</a></span></li><li><span><a href=\"#Примем-решение-по-результатам-теста.\" data-toc-modified-id=\"Примем-решение-по-результатам-теста.-2.15\"><span class=\"toc-item-num\">2.15&nbsp;&nbsp;</span>Примем решение по результатам теста.</a></span></li></ul></li><li><span><a href=\"#Выводы.\" data-toc-modified-id=\"Выводы.-3\"><span class=\"toc-item-num\">3&nbsp;&nbsp;</span>Выводы.</a></span><ul class=\"toc-item\"><li><span><a href=\"#Приоритизация-гипотез.\" data-toc-modified-id=\"Приоритизация-гипотез.-3.1\"><span class=\"toc-item-num\">3.1&nbsp;&nbsp;</span>Приоритизация гипотез.</a></span></li><li><span><a href=\"#Анализ-А/Б-теста.\" data-toc-modified-id=\"Анализ-А/Б-теста.-3.2\"><span class=\"toc-item-num\">3.2&nbsp;&nbsp;</span>Анализ А/Б-теста.</a></span></li></ul></li></ul></div>"
   ]
  },
  {
   "cell_type": "markdown",
   "id": "ee72af4d",
   "metadata": {},
   "source": [
    "<h1>Приоритезация гипотез и анализ результатов А/В-теста для увеличения выручки интернет-магазина.<h1>"
   ]
  },
  {
   "cell_type": "markdown",
   "id": "90465070",
   "metadata": {},
   "source": [
    "**Цель проекта:**\n",
    "\n",
    "**Часть 1. Приоритизация гипотез.**\n",
    "\n",
    "Мы располагаем 9 гипотезами по увеличению выручки интернет-магазина с указанными параметрами Reach, Impact, Confidence, Effort. Нам необходимо выявить наиболее приоритетные, используя фреймворки ICE и RICE.\n",
    "\n",
    "**Часть 2. Анализ A/B-теста.**\n",
    "\n",
    "Мы располагаем результатами A/B-теста, которые нам необходимо проанализировать и выявить группу-победителя, т.е. ту, которая может принести больше выручки. Для этого нам необходимо:\n",
    "\n",
    "1. Сравнить кумулятивную выручки по группам.\n",
    "2. Сравнить средний чек по группам.\n",
    "3. Сравнить среднее количество заказов на посетителя по группам.\n",
    "4. Посчитать статистическую значимость различий в среднем количестве заказов на посетителя между группами по \"сырым\" и \"очищенным\" данным.\n",
    "5. Посчитать статистическую значимость различий в среднем чеке заказа между группами по «сырым» и \"очищенным\" данным."
   ]
  },
  {
   "cell_type": "markdown",
   "id": "950c8d0e",
   "metadata": {},
   "source": [
    "**Исходные данные для первой части**    \n",
    "\n",
    "файл`/datasets/hypothesis.csv`\n",
    "\n",
    "- Hypothesis — краткое описание гипотезы;\n",
    "- Reach — охват пользователей по 10-балльной шкале;\n",
    "- Impact — влияние на пользователей по 10-балльной шкале;\n",
    "- Confidence — уверенность в гипотезе по 10-балльной шкале;\n",
    "- Efforts — затраты ресурсов на проверку гипотезы по 10-балльной шкале. Чем больше значение Efforts, тем дороже проверка гипотезы.. \n",
    "\n",
    "**Исходные данные для первой части**   \n",
    "\n",
    "файл`/datasets/orders.csv`\n",
    "\n",
    "- transactionId — идентификатор заказа;\n",
    "- visitorId — идентификатор пользователя, совершившего заказ;\n",
    "- date — дата, когда был совершён заказ;\n",
    "- revenue — выручка заказа;\n",
    "- group — группа A/B-теста, в которую попал заказ.\n",
    "\n",
    "Файл '/datasets/visitors.csv' \n",
    "- date — дата;\n",
    "- group — группа A/B-теста;\n",
    "- visitors — количество пользователей в указанную дату в указанной группе A/B-теста\n"
   ]
  },
  {
   "cell_type": "markdown",
   "id": "34365d95",
   "metadata": {},
   "source": [
    "### Приоритизация гипотез"
   ]
  },
  {
   "cell_type": "markdown",
   "id": "171ce495",
   "metadata": {},
   "source": [
    "#### Ознакомимся с данными и проведем их предобработку."
   ]
  },
  {
   "cell_type": "code",
   "execution_count": 1,
   "id": "95dcf3fc",
   "metadata": {},
   "outputs": [],
   "source": [
    "# импортируем нужные библитеки\n",
    "import pandas as pd\n",
    "import numpy as np\n",
    "import datetime as dt\n",
    "from matplotlib import pyplot as plt\n",
    "import scipy.stats as stats"
   ]
  },
  {
   "cell_type": "code",
   "execution_count": 2,
   "id": "514fb4e9",
   "metadata": {
    "scrolled": false
   },
   "outputs": [],
   "source": [
    "# чтение файлов с данными\n",
    "try:\n",
    "    data = pd.read_csv('https://code.s3.yandex.net/datasets/hypothesis.csv')\n",
    "    \n",
    "except:\n",
    "    data = pd.read_csv('C:/Users/Admin/Downloads/hypothesis.csv')"
   ]
  },
  {
   "cell_type": "code",
   "execution_count": 3,
   "id": "b8f474b3",
   "metadata": {},
   "outputs": [
    {
     "data": {
      "text/html": [
       "<div>\n",
       "<style scoped>\n",
       "    .dataframe tbody tr th:only-of-type {\n",
       "        vertical-align: middle;\n",
       "    }\n",
       "\n",
       "    .dataframe tbody tr th {\n",
       "        vertical-align: top;\n",
       "    }\n",
       "\n",
       "    .dataframe thead th {\n",
       "        text-align: right;\n",
       "    }\n",
       "</style>\n",
       "<table border=\"1\" class=\"dataframe\">\n",
       "  <thead>\n",
       "    <tr style=\"text-align: right;\">\n",
       "      <th></th>\n",
       "      <th>Hypothesis</th>\n",
       "      <th>Reach</th>\n",
       "      <th>Impact</th>\n",
       "      <th>Confidence</th>\n",
       "      <th>Efforts</th>\n",
       "    </tr>\n",
       "  </thead>\n",
       "  <tbody>\n",
       "    <tr>\n",
       "      <th>0</th>\n",
       "      <td>Добавить два новых канала привлечения трафика, что позволит привлекать на 30% больше пользователей</td>\n",
       "      <td>3</td>\n",
       "      <td>10</td>\n",
       "      <td>8</td>\n",
       "      <td>6</td>\n",
       "    </tr>\n",
       "    <tr>\n",
       "      <th>1</th>\n",
       "      <td>Запустить собственную службу доставки, что сократит срок доставки заказов</td>\n",
       "      <td>2</td>\n",
       "      <td>5</td>\n",
       "      <td>4</td>\n",
       "      <td>10</td>\n",
       "    </tr>\n",
       "    <tr>\n",
       "      <th>2</th>\n",
       "      <td>Добавить блоки рекомендаций товаров на сайт интернет магазина, чтобы повысить конверсию и средний чек заказа</td>\n",
       "      <td>8</td>\n",
       "      <td>3</td>\n",
       "      <td>7</td>\n",
       "      <td>3</td>\n",
       "    </tr>\n",
       "    <tr>\n",
       "      <th>3</th>\n",
       "      <td>Изменить структура категорий, что увеличит конверсию, т.к. пользователи быстрее найдут нужный товар</td>\n",
       "      <td>8</td>\n",
       "      <td>3</td>\n",
       "      <td>3</td>\n",
       "      <td>8</td>\n",
       "    </tr>\n",
       "    <tr>\n",
       "      <th>4</th>\n",
       "      <td>Изменить цвет фона главной страницы, чтобы увеличить вовлеченность пользователей</td>\n",
       "      <td>3</td>\n",
       "      <td>1</td>\n",
       "      <td>1</td>\n",
       "      <td>1</td>\n",
       "    </tr>\n",
       "    <tr>\n",
       "      <th>5</th>\n",
       "      <td>Добавить страницу отзывов клиентов о магазине, что позволит увеличить количество заказов</td>\n",
       "      <td>3</td>\n",
       "      <td>2</td>\n",
       "      <td>2</td>\n",
       "      <td>3</td>\n",
       "    </tr>\n",
       "    <tr>\n",
       "      <th>6</th>\n",
       "      <td>Показать на главной странице баннеры с актуальными акциями и распродажами, чтобы увеличить конверсию</td>\n",
       "      <td>5</td>\n",
       "      <td>3</td>\n",
       "      <td>8</td>\n",
       "      <td>3</td>\n",
       "    </tr>\n",
       "    <tr>\n",
       "      <th>7</th>\n",
       "      <td>Добавить форму подписки на все основные страницы, чтобы собрать базу клиентов для email-рассылок</td>\n",
       "      <td>10</td>\n",
       "      <td>7</td>\n",
       "      <td>8</td>\n",
       "      <td>5</td>\n",
       "    </tr>\n",
       "    <tr>\n",
       "      <th>8</th>\n",
       "      <td>Запустить акцию, дающую скидку на товар в день рождения</td>\n",
       "      <td>1</td>\n",
       "      <td>9</td>\n",
       "      <td>9</td>\n",
       "      <td>5</td>\n",
       "    </tr>\n",
       "  </tbody>\n",
       "</table>\n",
       "</div>"
      ],
      "text/plain": [
       "                                                                                                     Hypothesis  \\\n",
       "0            Добавить два новых канала привлечения трафика, что позволит привлекать на 30% больше пользователей   \n",
       "1                                     Запустить собственную службу доставки, что сократит срок доставки заказов   \n",
       "2  Добавить блоки рекомендаций товаров на сайт интернет магазина, чтобы повысить конверсию и средний чек заказа   \n",
       "3           Изменить структура категорий, что увеличит конверсию, т.к. пользователи быстрее найдут нужный товар   \n",
       "4                              Изменить цвет фона главной страницы, чтобы увеличить вовлеченность пользователей   \n",
       "5                      Добавить страницу отзывов клиентов о магазине, что позволит увеличить количество заказов   \n",
       "6          Показать на главной странице баннеры с актуальными акциями и распродажами, чтобы увеличить конверсию   \n",
       "7              Добавить форму подписки на все основные страницы, чтобы собрать базу клиентов для email-рассылок   \n",
       "8                                                       Запустить акцию, дающую скидку на товар в день рождения   \n",
       "\n",
       "   Reach  Impact  Confidence  Efforts  \n",
       "0      3      10           8        6  \n",
       "1      2       5           4       10  \n",
       "2      8       3           7        3  \n",
       "3      8       3           3        8  \n",
       "4      3       1           1        1  \n",
       "5      3       2           2        3  \n",
       "6      5       3           8        3  \n",
       "7     10       7           8        5  \n",
       "8      1       9           9        5  "
      ]
     },
     "execution_count": 3,
     "metadata": {},
     "output_type": "execute_result"
    }
   ],
   "source": [
    "# Вывод данных\n",
    "pd.set_option('display.max_colwidth', None)\n",
    "data"
   ]
  },
  {
   "cell_type": "markdown",
   "id": "4db731a8",
   "metadata": {},
   "source": [
    "Посмотрим общую информацию о данных."
   ]
  },
  {
   "cell_type": "code",
   "execution_count": 4,
   "id": "68451379",
   "metadata": {
    "scrolled": true
   },
   "outputs": [
    {
     "name": "stdout",
     "output_type": "stream",
     "text": [
      "<class 'pandas.core.frame.DataFrame'>\n",
      "RangeIndex: 9 entries, 0 to 8\n",
      "Data columns (total 5 columns):\n",
      " #   Column      Non-Null Count  Dtype \n",
      "---  ------      --------------  ----- \n",
      " 0   Hypothesis  9 non-null      object\n",
      " 1   Reach       9 non-null      int64 \n",
      " 2   Impact      9 non-null      int64 \n",
      " 3   Confidence  9 non-null      int64 \n",
      " 4   Efforts     9 non-null      int64 \n",
      "dtypes: int64(4), object(1)\n",
      "memory usage: 488.0+ bytes\n"
     ]
    }
   ],
   "source": [
    "data.info()"
   ]
  },
  {
   "cell_type": "markdown",
   "id": "59bbdec2",
   "metadata": {},
   "source": [
    "Пропусков не обнаружено;   \n",
    "Типы данных во всех в столбцах соответствуют необходимым;   \n",
    "необходимо привести названия столбцов к строчным;   \n",
    "также проферим данные на явные дубликаты."
   ]
  },
  {
   "cell_type": "code",
   "execution_count": 5,
   "id": "c8c76103",
   "metadata": {},
   "outputs": [
    {
     "data": {
      "text/plain": [
       "Index(['hypothesis', 'reach', 'impact', 'confidence', 'efforts'], dtype='object')"
      ]
     },
     "execution_count": 5,
     "metadata": {},
     "output_type": "execute_result"
    }
   ],
   "source": [
    "# приведем названия столбцов к строчному\n",
    "data.columns = data.columns.str.lower()\n",
    "data.columns"
   ]
  },
  {
   "cell_type": "code",
   "execution_count": 6,
   "id": "955ca512",
   "metadata": {
    "scrolled": true
   },
   "outputs": [
    {
     "data": {
      "text/plain": [
       "0"
      ]
     },
     "execution_count": 6,
     "metadata": {},
     "output_type": "execute_result"
    }
   ],
   "source": [
    "# проверим данные на дубликаты\n",
    "data.duplicated().sum()"
   ]
  },
  {
   "cell_type": "markdown",
   "id": "d688d1e0",
   "metadata": {},
   "source": [
    "Все числовые значения в таблице в рамках заданных."
   ]
  },
  {
   "cell_type": "markdown",
   "id": "de9ba70f",
   "metadata": {},
   "source": [
    "**Таким образом мы:**\n",
    "- загрузили и изучили данные;   \n",
    "- привели названия столбцов к строчному виду;   \n",
    "- пропусков, явных дубликатов и аномалий в числовых данных не обнаружили;    \n",
    "После предобработки данных можно переходить к анализу."
   ]
  },
  {
   "cell_type": "markdown",
   "id": "887445df",
   "metadata": {},
   "source": [
    "#### Применим фреймворк ICE для приоритизации гипотез."
   ]
  },
  {
   "cell_type": "markdown",
   "id": "e3e9fdeb",
   "metadata": {},
   "source": [
    "Применим формулу для нахождения ICE: ICE SCORE = Impact * Confidence / Efforts"
   ]
  },
  {
   "cell_type": "code",
   "execution_count": 7,
   "id": "de4e967e",
   "metadata": {},
   "outputs": [
    {
     "data": {
      "text/html": [
       "<div>\n",
       "<style scoped>\n",
       "    .dataframe tbody tr th:only-of-type {\n",
       "        vertical-align: middle;\n",
       "    }\n",
       "\n",
       "    .dataframe tbody tr th {\n",
       "        vertical-align: top;\n",
       "    }\n",
       "\n",
       "    .dataframe thead th {\n",
       "        text-align: right;\n",
       "    }\n",
       "</style>\n",
       "<table border=\"1\" class=\"dataframe\">\n",
       "  <thead>\n",
       "    <tr style=\"text-align: right;\">\n",
       "      <th></th>\n",
       "      <th>hypothesis</th>\n",
       "      <th>ICE</th>\n",
       "    </tr>\n",
       "  </thead>\n",
       "  <tbody>\n",
       "    <tr>\n",
       "      <th>8</th>\n",
       "      <td>Запустить акцию, дающую скидку на товар в день рождения</td>\n",
       "      <td>16.20</td>\n",
       "    </tr>\n",
       "    <tr>\n",
       "      <th>0</th>\n",
       "      <td>Добавить два новых канала привлечения трафика, что позволит привлекать на 30% больше пользователей</td>\n",
       "      <td>13.33</td>\n",
       "    </tr>\n",
       "    <tr>\n",
       "      <th>7</th>\n",
       "      <td>Добавить форму подписки на все основные страницы, чтобы собрать базу клиентов для email-рассылок</td>\n",
       "      <td>11.20</td>\n",
       "    </tr>\n",
       "    <tr>\n",
       "      <th>6</th>\n",
       "      <td>Показать на главной странице баннеры с актуальными акциями и распродажами, чтобы увеличить конверсию</td>\n",
       "      <td>8.00</td>\n",
       "    </tr>\n",
       "    <tr>\n",
       "      <th>2</th>\n",
       "      <td>Добавить блоки рекомендаций товаров на сайт интернет магазина, чтобы повысить конверсию и средний чек заказа</td>\n",
       "      <td>7.00</td>\n",
       "    </tr>\n",
       "    <tr>\n",
       "      <th>1</th>\n",
       "      <td>Запустить собственную службу доставки, что сократит срок доставки заказов</td>\n",
       "      <td>2.00</td>\n",
       "    </tr>\n",
       "    <tr>\n",
       "      <th>5</th>\n",
       "      <td>Добавить страницу отзывов клиентов о магазине, что позволит увеличить количество заказов</td>\n",
       "      <td>1.33</td>\n",
       "    </tr>\n",
       "    <tr>\n",
       "      <th>3</th>\n",
       "      <td>Изменить структура категорий, что увеличит конверсию, т.к. пользователи быстрее найдут нужный товар</td>\n",
       "      <td>1.12</td>\n",
       "    </tr>\n",
       "    <tr>\n",
       "      <th>4</th>\n",
       "      <td>Изменить цвет фона главной страницы, чтобы увеличить вовлеченность пользователей</td>\n",
       "      <td>1.00</td>\n",
       "    </tr>\n",
       "  </tbody>\n",
       "</table>\n",
       "</div>"
      ],
      "text/plain": [
       "                                                                                                     hypothesis  \\\n",
       "8                                                       Запустить акцию, дающую скидку на товар в день рождения   \n",
       "0            Добавить два новых канала привлечения трафика, что позволит привлекать на 30% больше пользователей   \n",
       "7              Добавить форму подписки на все основные страницы, чтобы собрать базу клиентов для email-рассылок   \n",
       "6          Показать на главной странице баннеры с актуальными акциями и распродажами, чтобы увеличить конверсию   \n",
       "2  Добавить блоки рекомендаций товаров на сайт интернет магазина, чтобы повысить конверсию и средний чек заказа   \n",
       "1                                     Запустить собственную службу доставки, что сократит срок доставки заказов   \n",
       "5                      Добавить страницу отзывов клиентов о магазине, что позволит увеличить количество заказов   \n",
       "3           Изменить структура категорий, что увеличит конверсию, т.к. пользователи быстрее найдут нужный товар   \n",
       "4                              Изменить цвет фона главной страницы, чтобы увеличить вовлеченность пользователей   \n",
       "\n",
       "     ICE  \n",
       "8  16.20  \n",
       "0  13.33  \n",
       "7  11.20  \n",
       "6   8.00  \n",
       "2   7.00  \n",
       "1   2.00  \n",
       "5   1.33  \n",
       "3   1.12  \n",
       "4   1.00  "
      ]
     },
     "execution_count": 7,
     "metadata": {},
     "output_type": "execute_result"
    }
   ],
   "source": [
    "data['ICE'] = (data['impact'] * data['confidence'] / data['efforts']).round(2)\n",
    "data[['hypothesis', 'ICE']].sort_values(by='ICE', ascending=False)"
   ]
  },
  {
   "cell_type": "markdown",
   "id": "b5b7c362",
   "metadata": {},
   "source": [
    "Можно увидеть, что наиболее перспективные гипотезы по методу ICE: 9,1 и 8."
   ]
  },
  {
   "cell_type": "markdown",
   "id": "43cac58d",
   "metadata": {},
   "source": [
    "#### Применим фреймворк RICE для приоритизации гипотез."
   ]
  },
  {
   "cell_type": "markdown",
   "id": "8b4fab89",
   "metadata": {},
   "source": [
    "Применим формулу для нахождения RICE: RICE SCORE = Reach * Impact * Confidence / Efforts"
   ]
  },
  {
   "cell_type": "code",
   "execution_count": 8,
   "id": "1c4b690d",
   "metadata": {},
   "outputs": [
    {
     "data": {
      "text/html": [
       "<div>\n",
       "<style scoped>\n",
       "    .dataframe tbody tr th:only-of-type {\n",
       "        vertical-align: middle;\n",
       "    }\n",
       "\n",
       "    .dataframe tbody tr th {\n",
       "        vertical-align: top;\n",
       "    }\n",
       "\n",
       "    .dataframe thead th {\n",
       "        text-align: right;\n",
       "    }\n",
       "</style>\n",
       "<table border=\"1\" class=\"dataframe\">\n",
       "  <thead>\n",
       "    <tr style=\"text-align: right;\">\n",
       "      <th></th>\n",
       "      <th>hypothesis</th>\n",
       "      <th>RICE</th>\n",
       "    </tr>\n",
       "  </thead>\n",
       "  <tbody>\n",
       "    <tr>\n",
       "      <th>7</th>\n",
       "      <td>Добавить форму подписки на все основные страницы, чтобы собрать базу клиентов для email-рассылок</td>\n",
       "      <td>112.0</td>\n",
       "    </tr>\n",
       "    <tr>\n",
       "      <th>2</th>\n",
       "      <td>Добавить блоки рекомендаций товаров на сайт интернет магазина, чтобы повысить конверсию и средний чек заказа</td>\n",
       "      <td>56.0</td>\n",
       "    </tr>\n",
       "    <tr>\n",
       "      <th>0</th>\n",
       "      <td>Добавить два новых канала привлечения трафика, что позволит привлекать на 30% больше пользователей</td>\n",
       "      <td>40.0</td>\n",
       "    </tr>\n",
       "    <tr>\n",
       "      <th>6</th>\n",
       "      <td>Показать на главной странице баннеры с актуальными акциями и распродажами, чтобы увеличить конверсию</td>\n",
       "      <td>40.0</td>\n",
       "    </tr>\n",
       "    <tr>\n",
       "      <th>8</th>\n",
       "      <td>Запустить акцию, дающую скидку на товар в день рождения</td>\n",
       "      <td>16.2</td>\n",
       "    </tr>\n",
       "    <tr>\n",
       "      <th>3</th>\n",
       "      <td>Изменить структура категорий, что увеличит конверсию, т.к. пользователи быстрее найдут нужный товар</td>\n",
       "      <td>9.0</td>\n",
       "    </tr>\n",
       "    <tr>\n",
       "      <th>1</th>\n",
       "      <td>Запустить собственную службу доставки, что сократит срок доставки заказов</td>\n",
       "      <td>4.0</td>\n",
       "    </tr>\n",
       "    <tr>\n",
       "      <th>5</th>\n",
       "      <td>Добавить страницу отзывов клиентов о магазине, что позволит увеличить количество заказов</td>\n",
       "      <td>4.0</td>\n",
       "    </tr>\n",
       "    <tr>\n",
       "      <th>4</th>\n",
       "      <td>Изменить цвет фона главной страницы, чтобы увеличить вовлеченность пользователей</td>\n",
       "      <td>3.0</td>\n",
       "    </tr>\n",
       "  </tbody>\n",
       "</table>\n",
       "</div>"
      ],
      "text/plain": [
       "                                                                                                     hypothesis  \\\n",
       "7              Добавить форму подписки на все основные страницы, чтобы собрать базу клиентов для email-рассылок   \n",
       "2  Добавить блоки рекомендаций товаров на сайт интернет магазина, чтобы повысить конверсию и средний чек заказа   \n",
       "0            Добавить два новых канала привлечения трафика, что позволит привлекать на 30% больше пользователей   \n",
       "6          Показать на главной странице баннеры с актуальными акциями и распродажами, чтобы увеличить конверсию   \n",
       "8                                                       Запустить акцию, дающую скидку на товар в день рождения   \n",
       "3           Изменить структура категорий, что увеличит конверсию, т.к. пользователи быстрее найдут нужный товар   \n",
       "1                                     Запустить собственную службу доставки, что сократит срок доставки заказов   \n",
       "5                      Добавить страницу отзывов клиентов о магазине, что позволит увеличить количество заказов   \n",
       "4                              Изменить цвет фона главной страницы, чтобы увеличить вовлеченность пользователей   \n",
       "\n",
       "    RICE  \n",
       "7  112.0  \n",
       "2   56.0  \n",
       "0   40.0  \n",
       "6   40.0  \n",
       "8   16.2  \n",
       "3    9.0  \n",
       "1    4.0  \n",
       "5    4.0  \n",
       "4    3.0  "
      ]
     },
     "execution_count": 8,
     "metadata": {},
     "output_type": "execute_result"
    }
   ],
   "source": [
    "data['RICE'] = data['reach'] * data['impact'] * data['confidence'] / data['efforts']\n",
    "data[['hypothesis', 'RICE']].sort_values(by='RICE', ascending=False)"
   ]
  },
  {
   "cell_type": "markdown",
   "id": "1b6746c8",
   "metadata": {},
   "source": [
    "Можно увидеть, что наиболее перспективные гипотезы по методу RICE: 8,3,1 и 7."
   ]
  },
  {
   "cell_type": "markdown",
   "id": "24caf691",
   "metadata": {},
   "source": [
    "**Таким образом, можно сделать следующие выводы:**\n",
    "- При применении RICE вместо ICE на первое место поднялась гипотеза 8 (Добавить форму подписки на все основные страницы, чтобы собрать базу клиентов для email-рассылок) за счет значения Reach, равному 10;\n",
    "- также гипотеза 9 (Запустить акцию, дающую скидку на товар в день рождения) с первого места опустилась на пятое за счет значения Reach, равному 1;\n",
    "- гипотезы 1 (Добавить два новых канала привлечения трафика, что позволит привлекать на 30% больше пользователей) и 8 (Добавить форму подписки на все основные страницы, чтобы собрать базу клиентов для email-рассылок) находятся в топ-3 при применении обоих методов."
   ]
  },
  {
   "cell_type": "markdown",
   "id": "1bad65af",
   "metadata": {},
   "source": [
    "### Анализ A/B-теста."
   ]
  },
  {
   "cell_type": "markdown",
   "id": "6c6b8119",
   "metadata": {},
   "source": [
    "#### Ознакомимся с данными и проведем их предобработку."
   ]
  },
  {
   "cell_type": "code",
   "execution_count": 9,
   "id": "ab6a6055",
   "metadata": {},
   "outputs": [],
   "source": [
    "# чтение файлов с данными\n",
    "try:\n",
    "    orders, visitors = (\n",
    "    pd.read_csv('https://code.s3.yandex.net/datasets/orders.csv'),  # заказы\n",
    "    pd.read_csv('https://code.s3.yandex.net/datasets/visitors.csv'),  # журнал сессий\n",
    ")\n",
    "except:\n",
    "    orders, visitors = (\n",
    "    pd.read_csv('C:/Users/Admin/Downloads/orders.csv'),  # заказы\n",
    "    pd.read_csv('C:/Users/Admin/Downloads/visitors.csv'),  # журнал сессий\n",
    ")"
   ]
  },
  {
   "cell_type": "code",
   "execution_count": 10,
   "id": "05ff2b23",
   "metadata": {
    "scrolled": true
   },
   "outputs": [
    {
     "data": {
      "text/html": [
       "<div>\n",
       "<style scoped>\n",
       "    .dataframe tbody tr th:only-of-type {\n",
       "        vertical-align: middle;\n",
       "    }\n",
       "\n",
       "    .dataframe tbody tr th {\n",
       "        vertical-align: top;\n",
       "    }\n",
       "\n",
       "    .dataframe thead th {\n",
       "        text-align: right;\n",
       "    }\n",
       "</style>\n",
       "<table border=\"1\" class=\"dataframe\">\n",
       "  <thead>\n",
       "    <tr style=\"text-align: right;\">\n",
       "      <th></th>\n",
       "      <th>transactionId</th>\n",
       "      <th>visitorId</th>\n",
       "      <th>date</th>\n",
       "      <th>revenue</th>\n",
       "      <th>group</th>\n",
       "    </tr>\n",
       "  </thead>\n",
       "  <tbody>\n",
       "    <tr>\n",
       "      <th>0</th>\n",
       "      <td>3667963787</td>\n",
       "      <td>3312258926</td>\n",
       "      <td>2019-08-15</td>\n",
       "      <td>1650</td>\n",
       "      <td>B</td>\n",
       "    </tr>\n",
       "    <tr>\n",
       "      <th>1</th>\n",
       "      <td>2804400009</td>\n",
       "      <td>3642806036</td>\n",
       "      <td>2019-08-15</td>\n",
       "      <td>730</td>\n",
       "      <td>B</td>\n",
       "    </tr>\n",
       "    <tr>\n",
       "      <th>2</th>\n",
       "      <td>2961555356</td>\n",
       "      <td>4069496402</td>\n",
       "      <td>2019-08-15</td>\n",
       "      <td>400</td>\n",
       "      <td>A</td>\n",
       "    </tr>\n",
       "    <tr>\n",
       "      <th>3</th>\n",
       "      <td>3797467345</td>\n",
       "      <td>1196621759</td>\n",
       "      <td>2019-08-15</td>\n",
       "      <td>9759</td>\n",
       "      <td>B</td>\n",
       "    </tr>\n",
       "    <tr>\n",
       "      <th>4</th>\n",
       "      <td>2282983706</td>\n",
       "      <td>2322279887</td>\n",
       "      <td>2019-08-15</td>\n",
       "      <td>2308</td>\n",
       "      <td>B</td>\n",
       "    </tr>\n",
       "  </tbody>\n",
       "</table>\n",
       "</div>"
      ],
      "text/plain": [
       "   transactionId   visitorId        date  revenue group\n",
       "0     3667963787  3312258926  2019-08-15     1650     B\n",
       "1     2804400009  3642806036  2019-08-15      730     B\n",
       "2     2961555356  4069496402  2019-08-15      400     A\n",
       "3     3797467345  1196621759  2019-08-15     9759     B\n",
       "4     2282983706  2322279887  2019-08-15     2308     B"
      ]
     },
     "execution_count": 10,
     "metadata": {},
     "output_type": "execute_result"
    }
   ],
   "source": [
    "orders.head()"
   ]
  },
  {
   "cell_type": "code",
   "execution_count": 11,
   "id": "bf02a530",
   "metadata": {
    "scrolled": true
   },
   "outputs": [
    {
     "data": {
      "text/html": [
       "<div>\n",
       "<style scoped>\n",
       "    .dataframe tbody tr th:only-of-type {\n",
       "        vertical-align: middle;\n",
       "    }\n",
       "\n",
       "    .dataframe tbody tr th {\n",
       "        vertical-align: top;\n",
       "    }\n",
       "\n",
       "    .dataframe thead th {\n",
       "        text-align: right;\n",
       "    }\n",
       "</style>\n",
       "<table border=\"1\" class=\"dataframe\">\n",
       "  <thead>\n",
       "    <tr style=\"text-align: right;\">\n",
       "      <th></th>\n",
       "      <th>date</th>\n",
       "      <th>group</th>\n",
       "      <th>visitors</th>\n",
       "    </tr>\n",
       "  </thead>\n",
       "  <tbody>\n",
       "    <tr>\n",
       "      <th>0</th>\n",
       "      <td>2019-08-01</td>\n",
       "      <td>A</td>\n",
       "      <td>719</td>\n",
       "    </tr>\n",
       "    <tr>\n",
       "      <th>1</th>\n",
       "      <td>2019-08-02</td>\n",
       "      <td>A</td>\n",
       "      <td>619</td>\n",
       "    </tr>\n",
       "    <tr>\n",
       "      <th>2</th>\n",
       "      <td>2019-08-03</td>\n",
       "      <td>A</td>\n",
       "      <td>507</td>\n",
       "    </tr>\n",
       "    <tr>\n",
       "      <th>3</th>\n",
       "      <td>2019-08-04</td>\n",
       "      <td>A</td>\n",
       "      <td>717</td>\n",
       "    </tr>\n",
       "    <tr>\n",
       "      <th>4</th>\n",
       "      <td>2019-08-05</td>\n",
       "      <td>A</td>\n",
       "      <td>756</td>\n",
       "    </tr>\n",
       "  </tbody>\n",
       "</table>\n",
       "</div>"
      ],
      "text/plain": [
       "         date group  visitors\n",
       "0  2019-08-01     A       719\n",
       "1  2019-08-02     A       619\n",
       "2  2019-08-03     A       507\n",
       "3  2019-08-04     A       717\n",
       "4  2019-08-05     A       756"
      ]
     },
     "execution_count": 11,
     "metadata": {},
     "output_type": "execute_result"
    }
   ],
   "source": [
    "visitors.head()"
   ]
  },
  {
   "cell_type": "markdown",
   "id": "d5b69d38",
   "metadata": {},
   "source": [
    "Посмотрим общую информацию о данных."
   ]
  },
  {
   "cell_type": "code",
   "execution_count": 12,
   "id": "f8fbaf2d",
   "metadata": {},
   "outputs": [
    {
     "name": "stdout",
     "output_type": "stream",
     "text": [
      "<class 'pandas.core.frame.DataFrame'>\n",
      "RangeIndex: 1197 entries, 0 to 1196\n",
      "Data columns (total 5 columns):\n",
      " #   Column         Non-Null Count  Dtype \n",
      "---  ------         --------------  ----- \n",
      " 0   transactionId  1197 non-null   int64 \n",
      " 1   visitorId      1197 non-null   int64 \n",
      " 2   date           1197 non-null   object\n",
      " 3   revenue        1197 non-null   int64 \n",
      " 4   group          1197 non-null   object\n",
      "dtypes: int64(3), object(2)\n",
      "memory usage: 46.9+ KB\n"
     ]
    }
   ],
   "source": [
    "orders.info()"
   ]
  },
  {
   "cell_type": "code",
   "execution_count": 13,
   "id": "f06418b1",
   "metadata": {},
   "outputs": [
    {
     "name": "stdout",
     "output_type": "stream",
     "text": [
      "<class 'pandas.core.frame.DataFrame'>\n",
      "RangeIndex: 62 entries, 0 to 61\n",
      "Data columns (total 3 columns):\n",
      " #   Column    Non-Null Count  Dtype \n",
      "---  ------    --------------  ----- \n",
      " 0   date      62 non-null     object\n",
      " 1   group     62 non-null     object\n",
      " 2   visitors  62 non-null     int64 \n",
      "dtypes: int64(1), object(2)\n",
      "memory usage: 1.6+ KB\n"
     ]
    }
   ],
   "source": [
    "visitors.info()"
   ]
  },
  {
   "cell_type": "markdown",
   "id": "47290653",
   "metadata": {},
   "source": [
    "Пропусков не обнаружено."
   ]
  },
  {
   "cell_type": "code",
   "execution_count": 14,
   "id": "02f46c1e",
   "metadata": {},
   "outputs": [
    {
     "data": {
      "text/plain": [
       "array(['B', 'A'], dtype=object)"
      ]
     },
     "metadata": {},
     "output_type": "display_data"
    },
    {
     "data": {
      "text/plain": [
       "array(['A', 'B'], dtype=object)"
      ]
     },
     "execution_count": 14,
     "metadata": {},
     "output_type": "execute_result"
    }
   ],
   "source": [
    "display(orders['group'].unique())\n",
    "visitors['group'].unique()"
   ]
  },
  {
   "cell_type": "code",
   "execution_count": 15,
   "id": "14e1c8b8",
   "metadata": {},
   "outputs": [
    {
     "data": {
      "text/html": [
       "<div>\n",
       "<style scoped>\n",
       "    .dataframe tbody tr th:only-of-type {\n",
       "        vertical-align: middle;\n",
       "    }\n",
       "\n",
       "    .dataframe tbody tr th {\n",
       "        vertical-align: top;\n",
       "    }\n",
       "\n",
       "    .dataframe thead th {\n",
       "        text-align: right;\n",
       "    }\n",
       "</style>\n",
       "<table border=\"1\" class=\"dataframe\">\n",
       "  <thead>\n",
       "    <tr style=\"text-align: right;\">\n",
       "      <th></th>\n",
       "      <th>visitorId</th>\n",
       "    </tr>\n",
       "    <tr>\n",
       "      <th>group</th>\n",
       "      <th></th>\n",
       "    </tr>\n",
       "  </thead>\n",
       "  <tbody>\n",
       "    <tr>\n",
       "      <th>A</th>\n",
       "      <td>503</td>\n",
       "    </tr>\n",
       "    <tr>\n",
       "      <th>B</th>\n",
       "      <td>586</td>\n",
       "    </tr>\n",
       "  </tbody>\n",
       "</table>\n",
       "</div>"
      ],
      "text/plain": [
       "       visitorId\n",
       "group           \n",
       "A            503\n",
       "B            586"
      ]
     },
     "execution_count": 15,
     "metadata": {},
     "output_type": "execute_result"
    }
   ],
   "source": [
    "orders.groupby('group').agg({'visitorId': 'nunique'})"
   ]
  },
  {
   "cell_type": "markdown",
   "id": "689cc67d",
   "metadata": {},
   "source": [
    "Можно увидеть, что в исследуемых данных есть 2 группы А и В с количеством пользователей 503 и 586 соответственно."
   ]
  },
  {
   "cell_type": "markdown",
   "id": "98ba68fe",
   "metadata": {},
   "source": [
    "Необходимо преобразовать данные в столбцах `date` в Datetime;     \n",
    "также проферим данные на явные дубликаты."
   ]
  },
  {
   "cell_type": "code",
   "execution_count": 16,
   "id": "ff36618f",
   "metadata": {},
   "outputs": [],
   "source": [
    "orders['date'] = pd.to_datetime(orders['date'])\n",
    "visitors['date'] = pd.to_datetime(visitors['date'])"
   ]
  },
  {
   "cell_type": "code",
   "execution_count": 17,
   "id": "ced3bed3",
   "metadata": {
    "scrolled": true
   },
   "outputs": [
    {
     "data": {
      "text/plain": [
       "0"
      ]
     },
     "metadata": {},
     "output_type": "display_data"
    },
    {
     "data": {
      "text/plain": [
       "0"
      ]
     },
     "execution_count": 17,
     "metadata": {},
     "output_type": "execute_result"
    }
   ],
   "source": [
    "# проверим данные на дубликаты\n",
    "display(orders.duplicated().sum())\n",
    "visitors.duplicated().sum()"
   ]
  },
  {
   "cell_type": "markdown",
   "id": "6ede6bae",
   "metadata": {},
   "source": [
    "Проверим временной интервал наших данных"
   ]
  },
  {
   "cell_type": "code",
   "execution_count": 18,
   "id": "adb8e99c",
   "metadata": {},
   "outputs": [
    {
     "data": {
      "text/plain": [
       "Timestamp('2019-08-01 00:00:00')"
      ]
     },
     "metadata": {},
     "output_type": "display_data"
    },
    {
     "data": {
      "text/plain": [
       "Timestamp('2019-08-31 00:00:00')"
      ]
     },
     "execution_count": 18,
     "metadata": {},
     "output_type": "execute_result"
    }
   ],
   "source": [
    "display(orders['date'].min())\n",
    "orders['date'].max()"
   ]
  },
  {
   "cell_type": "code",
   "execution_count": 19,
   "id": "667ab74e",
   "metadata": {
    "scrolled": true
   },
   "outputs": [
    {
     "data": {
      "text/plain": [
       "Timestamp('2019-08-01 00:00:00')"
      ]
     },
     "metadata": {},
     "output_type": "display_data"
    },
    {
     "data": {
      "text/plain": [
       "Timestamp('2019-08-31 00:00:00')"
      ]
     },
     "execution_count": 19,
     "metadata": {},
     "output_type": "execute_result"
    }
   ],
   "source": [
    "display(visitors['date'].min())\n",
    "visitors['date'].max()"
   ]
  },
  {
   "cell_type": "markdown",
   "id": "2898dc49",
   "metadata": {},
   "source": [
    "Временной интервал совпадает."
   ]
  },
  {
   "cell_type": "markdown",
   "id": "9e953339",
   "metadata": {},
   "source": [
    "Проверим, попадают ли какие-то пользователи в обе группы. И отфильтруем их."
   ]
  },
  {
   "cell_type": "code",
   "execution_count": 20,
   "id": "3b2f3c06",
   "metadata": {},
   "outputs": [
    {
     "data": {
      "text/plain": [
       "\"groups = orders.groupby('visitorId').agg({'group': 'nunique'})\\nid_list = groups.index[groups['group'] != 2].tolist()\\norders = orders.query('visitorId in @id_list')\\norders.info()\""
      ]
     },
     "execution_count": 20,
     "metadata": {},
     "output_type": "execute_result"
    }
   ],
   "source": [
    "'''groups = orders.groupby('visitorId').agg({'group': 'nunique'})\n",
    "id_list = groups.index[groups['group'] != 2].tolist()\n",
    "orders = orders.query('visitorId in @id_list')\n",
    "orders.info()'''"
   ]
  },
  {
   "cell_type": "markdown",
   "id": "4a46a557",
   "metadata": {},
   "source": [
    "Посмотрим динамику пользователей по дням."
   ]
  },
  {
   "cell_type": "code",
   "execution_count": 21,
   "id": "4a46a840",
   "metadata": {},
   "outputs": [
    {
     "data": {
      "image/png": "[encoded data removed]",
      "text/plain": [
       "<Figure size 640x480 with 1 Axes>"
      ]
     },
     "metadata": {},
     "output_type": "display_data"
    }
   ],
   "source": [
    "visitorsA = visitors.query('group==\"A\"')\n",
    "visitorsB = visitors.query('group==\"B\"')\n",
    "plt.title('Динамика посетителей по дням')\n",
    "plt.xlabel('Дата')\n",
    "plt.ylabel('посетители')\n",
    "plt.plot(visitorsA['date'], visitorsA['visitors'], label='A')\n",
    "plt.plot(visitorsB['date'], visitorsB['visitors'], label='B')\n",
    "plt.xticks(rotation=45)\n",
    "plt.legend();"
   ]
  },
  {
   "cell_type": "markdown",
   "id": "7ebce132",
   "metadata": {},
   "source": [
    "Динамика пользователей по дням у обеих групп схожая."
   ]
  },
  {
   "cell_type": "markdown",
   "id": "bf878bb1",
   "metadata": {},
   "source": [
    "**Таким образом мы:**\n",
    "- загрузили и изучили данные;   \n",
    "- привели типы данных к необходимым;   \n",
    "- пропусков и и явных дубликатов не обнаружили;    \n",
    "\n",
    "Так мы имеем 2 группы А и В с количеством уникальных пользователей 503 и 586 соответственно(16.5% разница). Нужно выяснить отличия в среднем количестве заказов и среднему чеку между этими группами.\n",
    "После предобработки данных можно переходить к анализу результатов А/В-теста."
   ]
  },
  {
   "cell_type": "markdown",
   "id": "e10aca6f",
   "metadata": {},
   "source": [
    "#### Построим график кумулятивной выручки по группам по дням."
   ]
  },
  {
   "cell_type": "code",
   "execution_count": 22,
   "id": "b957bbba",
   "metadata": {
    "scrolled": false
   },
   "outputs": [
    {
     "data": {
      "text/html": [
       "<div>\n",
       "<style scoped>\n",
       "    .dataframe tbody tr th:only-of-type {\n",
       "        vertical-align: middle;\n",
       "    }\n",
       "\n",
       "    .dataframe tbody tr th {\n",
       "        vertical-align: top;\n",
       "    }\n",
       "\n",
       "    .dataframe thead th {\n",
       "        text-align: right;\n",
       "    }\n",
       "</style>\n",
       "<table border=\"1\" class=\"dataframe\">\n",
       "  <thead>\n",
       "    <tr style=\"text-align: right;\">\n",
       "      <th></th>\n",
       "      <th>date</th>\n",
       "      <th>group</th>\n",
       "      <th>orders</th>\n",
       "      <th>buyers</th>\n",
       "      <th>revenue</th>\n",
       "      <th>visitors</th>\n",
       "    </tr>\n",
       "  </thead>\n",
       "  <tbody>\n",
       "    <tr>\n",
       "      <th>0</th>\n",
       "      <td>2019-08-01</td>\n",
       "      <td>A</td>\n",
       "      <td>24</td>\n",
       "      <td>20</td>\n",
       "      <td>148579</td>\n",
       "      <td>719</td>\n",
       "    </tr>\n",
       "    <tr>\n",
       "      <th>1</th>\n",
       "      <td>2019-08-01</td>\n",
       "      <td>B</td>\n",
       "      <td>21</td>\n",
       "      <td>20</td>\n",
       "      <td>101217</td>\n",
       "      <td>713</td>\n",
       "    </tr>\n",
       "    <tr>\n",
       "      <th>2</th>\n",
       "      <td>2019-08-02</td>\n",
       "      <td>A</td>\n",
       "      <td>44</td>\n",
       "      <td>38</td>\n",
       "      <td>242401</td>\n",
       "      <td>1338</td>\n",
       "    </tr>\n",
       "    <tr>\n",
       "      <th>3</th>\n",
       "      <td>2019-08-02</td>\n",
       "      <td>B</td>\n",
       "      <td>45</td>\n",
       "      <td>43</td>\n",
       "      <td>266748</td>\n",
       "      <td>1294</td>\n",
       "    </tr>\n",
       "    <tr>\n",
       "      <th>4</th>\n",
       "      <td>2019-08-03</td>\n",
       "      <td>A</td>\n",
       "      <td>68</td>\n",
       "      <td>62</td>\n",
       "      <td>354874</td>\n",
       "      <td>1845</td>\n",
       "    </tr>\n",
       "  </tbody>\n",
       "</table>\n",
       "</div>"
      ],
      "text/plain": [
       "        date group  orders  buyers  revenue  visitors\n",
       "0 2019-08-01     A      24      20   148579       719\n",
       "1 2019-08-01     B      21      20   101217       713\n",
       "2 2019-08-02     A      44      38   242401      1338\n",
       "3 2019-08-02     B      45      43   266748      1294\n",
       "4 2019-08-03     A      68      62   354874      1845"
      ]
     },
     "metadata": {},
     "output_type": "display_data"
    },
    {
     "data": {
      "image/png": "[encoded data removed]",
      "text/plain": [
       "<Figure size 640x480 with 1 Axes>"
      ]
     },
     "metadata": {},
     "output_type": "display_data"
    }
   ],
   "source": [
    "# датафрейм с уникальными парами значений 'date' и 'group' таблицы orders\n",
    "datesGroups = orders[['date', 'group']].drop_duplicates()\n",
    "\n",
    "# переменная с датой, группой, числом заказов в группе теста по указ. дату,\n",
    "# число уник. польз. с хотя бы 1 заказом в группе теста по указ. дату и сум. выручку\n",
    "ordersAggregated = datesGroups.apply(\n",
    "    lambda x: orders[\n",
    "        np.logical_and(\n",
    "            orders['date'] <= x['date'], orders['group'] == x['group']\n",
    "        )\n",
    "    ].agg(\n",
    "        {\n",
    "            'date': 'max',\n",
    "            'group': 'max',\n",
    "            'transactionId': 'nunique',\n",
    "            'visitorId': 'nunique',\n",
    "            'revenue': 'sum',\n",
    "        }\n",
    "    ),\n",
    "    axis=1,\n",
    ").sort_values(by=['date', 'group'])\n",
    "\n",
    "# переменная с датой, группой и количеством уник. посетит. в группе теста по указ. дату\n",
    "visitorsAggregated = datesGroups.apply(\n",
    "    lambda x: visitors[\n",
    "        np.logical_and(\n",
    "            visitors['date'] <= x['date'], visitors['group'] == x['group']\n",
    "        )\n",
    "    ].agg({'date': 'max', 'group': 'max', 'visitors': 'sum'}),\n",
    "    axis=1,\n",
    ").sort_values(by=['date', 'group'])\n",
    "\n",
    "cumulativeData = ordersAggregated.merge(\n",
    "    visitorsAggregated, left_on=['date', 'group'], right_on=['date', 'group']\n",
    ")\n",
    "\n",
    "ordersAggregated.sort_values(by='date',ascending=True)\n",
    "visitorsAggregated.sort_values(by='group',ascending=True)\n",
    "\n",
    "# объединим 2 предыдущие переменные по дате и группе теста\n",
    "cumulativeData = ordersAggregated.merge(visitorsAggregated, left_on=['date', 'group'],\n",
    "                                        right_on=['date', 'group'])\n",
    "# переименуем поля\n",
    "cumulativeData.columns = ['date', 'group', 'orders', 'buyers', 'revenue', 'visitors']\n",
    "\n",
    "# выведем итоговую таблицу\n",
    "display(cumulativeData.head())\n",
    " \n",
    "# кумулятивная выручка по дням по группам\n",
    "cumulativeRevenueA = cumulativeData[cumulativeData['group']=='A'][['date','revenue', 'orders']]\n",
    "cumulativeRevenueB = cumulativeData[cumulativeData['group']=='B'][['date','revenue', 'orders']]\n",
    "\n",
    "# построим графики кумулятивной выручки по дням по группам.\n",
    "plt.title('Кумулятивная выручка')\n",
    "plt.xlabel('Дата')\n",
    "plt.ylabel('Выручка')\n",
    "plt.plot(cumulativeRevenueA['date'], cumulativeRevenueA['revenue'], label='A')\n",
    "plt.plot(cumulativeRevenueB['date'], cumulativeRevenueB['revenue'], label='B')\n",
    "plt.xticks(rotation=45)\n",
    "plt.legend();"
   ]
  },
  {
   "cell_type": "markdown",
   "id": "3e342fca",
   "metadata": {},
   "source": [
    "**По графику можно сделать вывод**, что кумулятивная выручка у группы B начинает превышать выручку группы А, начиная с 5го августа, затем они становятся равны 13го августа, но далее выручка в группе В резко растет 18го августа, и концу месяца выручка в групее В становится выше примерно в 1.5 раза.   \n",
    "\n",
    "Возможно, резкий рост выручки в группе В связан с аномально большими заказами. Но и без этого скачка Гуппа В лидирует по кумулятивной выручке, что может быть связано или с ростом количества заказов или с ростом среднего чека, или с тем и другим. Эти причины нам и предстоит выяснить."
   ]
  },
  {
   "cell_type": "markdown",
   "id": "6621c6f2",
   "metadata": {},
   "source": [
    "#### Построим график кумулятивного среднего чека по группам."
   ]
  },
  {
   "cell_type": "code",
   "execution_count": 23,
   "id": "89f87375",
   "metadata": {
    "scrolled": false
   },
   "outputs": [
    {
     "data": {
      "image/png": "[encoded data removed]",
      "text/plain": [
       "<Figure size 640x480 with 1 Axes>"
      ]
     },
     "metadata": {},
     "output_type": "display_data"
    }
   ],
   "source": [
    "# найдем размер среднего чека, как отношение выручки к количеству заказов\n",
    "plt.title('Кумулятивный средний чек')\n",
    "plt.xlabel('Дата')\n",
    "plt.ylabel('Средний чек')\n",
    "plt.plot(cumulativeRevenueA['date'],\n",
    "         cumulativeRevenueA['revenue']/cumulativeRevenueA['orders'],\n",
    "         label='A')\n",
    "plt.plot(cumulativeRevenueB['date'],\n",
    "         cumulativeRevenueB['revenue']/cumulativeRevenueB['orders'],\n",
    "         label='B')\n",
    "plt.xticks(rotation=45)\n",
    "plt.legend();"
   ]
  },
  {
   "cell_type": "markdown",
   "id": "e15ae497",
   "metadata": {},
   "source": [
    "По графику видно, что размер среднего кумулятивного чека по группам сильно колеблется по дням, опять же 18го августа виден резкий рост в группе В.   \n",
    "\n",
    "Вероятно, всему виной выбросы, искажающие общую картину."
   ]
  },
  {
   "cell_type": "markdown",
   "id": "041ebb7d",
   "metadata": {},
   "source": [
    "#### Построим график относительного изменения кумулятивного среднего чека группы B к группе A."
   ]
  },
  {
   "cell_type": "code",
   "execution_count": 24,
   "id": "3f78fc5b",
   "metadata": {},
   "outputs": [
    {
     "data": {
      "image/png": "[encoded data removed]",
      "text/plain": [
       "<Figure size 640x480 with 1 Axes>"
      ]
     },
     "metadata": {},
     "output_type": "display_data"
    }
   ],
   "source": [
    "# объединим таблицы с кумулятивной выручкой\n",
    "mergedCumulativeRevenue = cumulativeRevenueA.merge(cumulativeRevenueB,\n",
    "                                                   left_on='date',\n",
    "                                                   right_on='date',\n",
    "                                                   how='left',\n",
    "                                                   suffixes=['A', 'B'])\n",
    "# найдем отношение среднего чека группы B к группе A\n",
    "plt.title('Относительное изменение кумулятивного среднего чека группы B к группе A')\n",
    "plt.xlabel('Дата')\n",
    "plt.ylabel('Отношение среднего чека')\n",
    "(plt.plot(mergedCumulativeRevenue['date'],\n",
    "         (mergedCumulativeRevenue['revenueB']\n",
    "          /mergedCumulativeRevenue['ordersB'])\n",
    "          /(mergedCumulativeRevenue['revenueA']\n",
    "          /mergedCumulativeRevenue['ordersA'])-1)\n",
    ")\n",
    "plt.axhline(y=0, color='black', linestyle='--')\n",
    "plt.xticks(rotation=45);"
   ]
  },
  {
   "cell_type": "markdown",
   "id": "b2ed1865",
   "metadata": {},
   "source": [
    "Результаты теста значительно и резко менялись в несколько дат, вероятно, тогда и были совершены аномальные заказы."
   ]
  },
  {
   "cell_type": "markdown",
   "id": "1398af98",
   "metadata": {},
   "source": [
    "#### Построим график кумулятивного среднего количества заказов на посетителя по группам."
   ]
  },
  {
   "cell_type": "code",
   "execution_count": 25,
   "id": "53f866b1",
   "metadata": {},
   "outputs": [
    {
     "data": {
      "image/png": "[encoded data removed]",
      "text/plain": [
       "<Figure size 640x480 with 1 Axes>"
      ]
     },
     "metadata": {},
     "output_type": "display_data"
    }
   ],
   "source": [
    "# добавим в общую таблицу среднее количество заказов на посетителя\n",
    "cumulativeData['avg_orders'] = cumulativeData['orders']/cumulativeData['visitors']\n",
    "\n",
    "# разделим данные на сегменты\n",
    "cumulativeDataA = cumulativeData[cumulativeData['group']=='A']\n",
    "cumulativeDataB = cumulativeData[cumulativeData['group']=='B']\n",
    "\n",
    "plt.title('Кумулятивное среднее количество заказов')\n",
    "plt.xlabel('Дата')\n",
    "plt.ylabel('Количество заказов')\n",
    "plt.plot(cumulativeDataA['date'], cumulativeDataA['avg_orders'], label='A')\n",
    "plt.plot(cumulativeDataB['date'], cumulativeDataB['avg_orders'], label='B')\n",
    "plt.axis([dt.datetime(2019, 8, 1), dt.datetime(2019, 8, 30), 0, 0.05])\n",
    "plt.xticks(rotation=45)\n",
    "plt.legend();"
   ]
  },
  {
   "cell_type": "markdown",
   "id": "d9ac34cd",
   "metadata": {},
   "source": [
    "Вначале теста сегмент А имел большее среднее количество заказов на посетителя, но постепенно сегмент В выровнялся зафиксировался примерно около одного значения, больше значения сегмента А."
   ]
  },
  {
   "cell_type": "markdown",
   "id": "fd4b6b2d",
   "metadata": {},
   "source": [
    "#### Построим график  относительного изменения кумулятивного среднего количества заказов на посетителя группы B к группе A."
   ]
  },
  {
   "cell_type": "code",
   "execution_count": 26,
   "id": "d9e465d6",
   "metadata": {},
   "outputs": [
    {
     "data": {
      "image/png": "[encoded data removed]",
      "text/plain": [
       "<Figure size 640x480 with 1 Axes>"
      ]
     },
     "metadata": {},
     "output_type": "display_data"
    }
   ],
   "source": [
    "# объединим таблицы со средним количеством заказов на посетителя по сегментам\n",
    "mergedCumulativeConversions = cumulativeDataA[['date','avg_orders']].merge(cumulativeDataB[['date','avg_orders']],\n",
    "           left_on='date',\n",
    "           right_on='date',\n",
    "           how='left',\n",
    "           suffixes=['A', 'B'])\n",
    "\n",
    "plt.title('Относительное изменение кумулятивного среднего количества заказов на посетителя группы B к группе A.')\n",
    "plt.xlabel('Дата')\n",
    "plt.ylabel('Отношение количества заказов')\n",
    "\n",
    "(plt.plot(mergedCumulativeConversions['date'],\n",
    "          mergedCumulativeConversions['avg_ordersB']\n",
    "          /mergedCumulativeConversions['avg_ordersA']-1)\n",
    ")\n",
    "\n",
    "plt.axhline(y=0, color='black', linestyle='--')\n",
    "plt.axhline(y=0.13, color='grey', linestyle='--')\n",
    "plt.axis([dt.datetime(2019, 8, 1), dt.datetime(2019, 8, 30), -0.5, 0.5]) \n",
    "plt.xticks(rotation=45);"
   ]
  },
  {
   "cell_type": "markdown",
   "id": "41884485",
   "metadata": {},
   "source": [
    "Почти с самого начала теста группа В лидирует по среднему количеству заказов и приходит к приросту около 13% к концу теста."
   ]
  },
  {
   "cell_type": "markdown",
   "id": "64ffcc1f",
   "metadata": {},
   "source": [
    "#### Построим точечный график количества заказов по пользователям."
   ]
  },
  {
   "cell_type": "code",
   "execution_count": 27,
   "id": "aa468450",
   "metadata": {},
   "outputs": [
    {
     "data": {
      "image/png": "[encoded data removed]",
      "text/plain": [
       "<Figure size 640x480 with 1 Axes>"
      ]
     },
     "metadata": {},
     "output_type": "display_data"
    }
   ],
   "source": [
    "# найдем число заказов по пользователям\n",
    "ordersByUsers = (\n",
    "    orders.groupby('visitorId', as_index=False)\n",
    "    .agg({'transactionId': 'nunique'})\n",
    ")\n",
    "ordersByUsers.columns = ['userId', 'orders']\n",
    "\n",
    "# серия из чисел от 0 до количества наблюдений в ordersByUsers\n",
    "x_values = pd.Series(range(0, len(ordersByUsers)))\n",
    "plt.title('Количество заказов по пользователям')\n",
    "plt.xlabel('Пользователи')\n",
    "plt.ylabel('Количество заказов')\n",
    "plt.scatter(x_values, ordersByUsers['orders']);"
   ]
  },
  {
   "cell_type": "markdown",
   "id": "db3590e1",
   "metadata": {},
   "source": [
    "Пользователей, сделавших более двух заказов, совсем мало.    \n",
    "Возможно, это аномалии. Чтобы это определить, нужно посчитать выборочные перцентили. "
   ]
  },
  {
   "cell_type": "markdown",
   "id": "83abbe98",
   "metadata": {},
   "source": [
    "#### Посчитаем 95-й и 99-й перцентили  количества заказов на пользователя. Выберем границу для определения аномальных заказов."
   ]
  },
  {
   "cell_type": "code",
   "execution_count": 28,
   "id": "e1c9f9a5",
   "metadata": {},
   "outputs": [
    {
     "data": {
      "text/plain": [
       "array([1., 2., 4.])"
      ]
     },
     "execution_count": 28,
     "metadata": {},
     "output_type": "execute_result"
    }
   ],
   "source": [
    "np.percentile(ordersByUsers['orders'], [90, 95, 99])"
   ]
  },
  {
   "cell_type": "markdown",
   "id": "c024b6a7",
   "metadata": {},
   "source": [
    "Пользователи, сделавшие не более двух заказов, составляют 95% от всех пользователей. Пользователи с четырьмя и более заказами составляют 1% от всех пользователей.   \n",
    "Выберем границу для определения аномальных заказов: пользователи с более, чем четырьмя заказами."
   ]
  },
  {
   "cell_type": "markdown",
   "id": "e183dea6",
   "metadata": {},
   "source": [
    "#### Постройм точечный график стоимостей заказов."
   ]
  },
  {
   "cell_type": "code",
   "execution_count": 29,
   "id": "71f841f3",
   "metadata": {
    "scrolled": false
   },
   "outputs": [
    {
     "data": {
      "image/png": "[encoded data removed]",
      "text/plain": [
       "<Figure size 640x480 with 1 Axes>"
      ]
     },
     "metadata": {},
     "output_type": "display_data"
    }
   ],
   "source": [
    "x_values = pd.Series(range(0, len(orders['revenue'])))\n",
    "plt.title('Стоимость заказов по пользователям')\n",
    "plt.xlabel('Пользователи')\n",
    "plt.ylabel('Стоимость заказов')\n",
    "plt.scatter(x_values, orders['revenue']);"
   ]
  },
  {
   "cell_type": "markdown",
   "id": "7d1ff73e",
   "metadata": {},
   "source": [
    "На графике видна аномалия: заказ стоимостью более 1.2 млн."
   ]
  },
  {
   "cell_type": "code",
   "execution_count": 30,
   "id": "355d4d3c",
   "metadata": {},
   "outputs": [
    {
     "data": {
      "image/png": "[encoded data removed]",
      "text/plain": [
       "<Figure size 640x480 with 1 Axes>"
      ]
     },
     "metadata": {},
     "output_type": "display_data"
    }
   ],
   "source": [
    "plt.ylim([0,100000])\n",
    "plt.title('Стоимость заказов по пользователям')\n",
    "plt.xlabel('Пользователи')\n",
    "plt.ylabel('Стоимость заказов')\n",
    "plt.scatter(x_values, orders['revenue']);"
   ]
  },
  {
   "cell_type": "markdown",
   "id": "83ba735a",
   "metadata": {},
   "source": [
    "#### Посчитаем 95-й и 99-й перцентили стоимости заказов. Выберем границу для определения аномальных заказов."
   ]
  },
  {
   "cell_type": "code",
   "execution_count": 31,
   "id": "198e8f55",
   "metadata": {},
   "outputs": [
    {
     "data": {
      "text/plain": [
       "array([18168. , 28000. , 58233.2])"
      ]
     },
     "execution_count": 31,
     "metadata": {},
     "output_type": "execute_result"
    }
   ],
   "source": [
    "np.percentile(orders['revenue'], [90, 95, 99])"
   ]
  },
  {
   "cell_type": "markdown",
   "id": "0392c11b",
   "metadata": {},
   "source": [
    "Не более, чем у 5% заказов стоимость выше 28000. И не более, чем у 1% заказов стоимость выше 58233.2.  \n",
    "Выберем границу для определения аномальных пользователей: заказы со стоимость выше 58232."
   ]
  },
  {
   "cell_type": "markdown",
   "id": "0359b97c",
   "metadata": {},
   "source": [
    "#### Посчитаем статистическую значимость различий в среднем количестве заказов на посетителя между группами по «сырым» данным."
   ]
  },
  {
   "cell_type": "markdown",
   "id": "17604948",
   "metadata": {},
   "source": [
    "Сформулируем гипотезы.    \n",
    "**Нулевая**: различий в среднем количестве заказов между группами нет.   \n",
    "**Альтернативная**: различия в среднем между группами есть."
   ]
  },
  {
   "cell_type": "code",
   "execution_count": 32,
   "id": "e839a1f3",
   "metadata": {},
   "outputs": [
    {
     "name": "stdout",
     "output_type": "stream",
     "text": [
      "p-value = 0.01679\n",
      "Относительный прирост: 13.81%\n"
     ]
    }
   ],
   "source": [
    "# посчитаем количество посетителей в день для группы А\n",
    "visitorsADaily = visitors[visitors['group'] == 'A'][['date', 'visitors']]\n",
    "visitorsADaily.columns = ['date', 'visitorsPerDateA']\n",
    "\n",
    "# посчитаем количество посетителей в день с накоплением для группы А\n",
    "visitorsACummulative = visitorsADaily.apply(\n",
    "    lambda x: visitorsADaily[visitorsADaily['date'] <= x['date']].agg(\n",
    "        {'date': 'max', 'visitorsPerDateA': 'sum'}\n",
    "    ),\n",
    "    axis=1,\n",
    ")\n",
    "visitorsACummulative.columns = ['date', 'visitorsCummulativeA']\n",
    "\n",
    "# посчитаем количество посетителей в день для группы В\n",
    "visitorsBDaily = visitors[visitors['group'] == 'B'][['date', 'visitors']]\n",
    "visitorsBDaily.columns = ['date', 'visitorsPerDateB']\n",
    "\n",
    "# посчитаем количество посетителей в день с накоплением для группы В\n",
    "visitorsBCummulative = visitorsBDaily.apply(\n",
    "    lambda x: visitorsBDaily[visitorsBDaily['date'] <= x['date']].agg(\n",
    "        {'date': 'max', 'visitorsPerDateB': 'sum'}\n",
    "    ),\n",
    "    axis=1,\n",
    ")\n",
    "visitorsBCummulative.columns = ['date', 'visitorsCummulativeB']\n",
    "\n",
    "# посчитаем количество заказов и выручку в день для группы А\n",
    "ordersADaily = (\n",
    "    orders[orders['group'] == 'A'][['date', 'transactionId', 'visitorId', 'revenue']]\n",
    "    .groupby('date', as_index=False)\n",
    "    .agg({'transactionId': pd.Series.nunique, 'revenue': 'sum'})\n",
    ")\n",
    "ordersADaily.columns = ['date', 'ordersPerDateA', 'revenuePerDateA']\n",
    "\n",
    "# посчитаем количество заказов и выручку в день с накоплением для группы А\n",
    "ordersACummulative = ordersADaily.apply(\n",
    "    lambda x: ordersADaily[ordersADaily['date'] <= x['date']].agg(\n",
    "        {'date': 'max', 'ordersPerDateA': 'sum', 'revenuePerDateA': 'sum'}\n",
    "    ),\n",
    "    axis=1,\n",
    ").sort_values(by=['date'])\n",
    "ordersACummulative.columns = [\n",
    "    'date',\n",
    "    'ordersCummulativeA',\n",
    "    'revenueCummulativeA',\n",
    "]\n",
    "\n",
    "# посчитаем количество заказов и выручку в день для группы В\n",
    "ordersBDaily = (\n",
    "    orders[orders['group'] == 'B'][['date', 'transactionId', 'visitorId', 'revenue']]\n",
    "    .groupby('date', as_index=False)\n",
    "    .agg({'transactionId': pd.Series.nunique, 'revenue': 'sum'})\n",
    ")\n",
    "ordersBDaily.columns = ['date', 'ordersPerDateB', 'revenuePerDateB']\n",
    "\n",
    "# посчитаем количество заказов и выручку в день с накоплением для группы В\n",
    "ordersBCummulative = ordersBDaily.apply(\n",
    "    lambda x: ordersBDaily[ordersBDaily['date'] <= x['date']].agg(\n",
    "        {'date': 'max', 'ordersPerDateB': 'sum', 'revenuePerDateB': 'sum'}\n",
    "    ),\n",
    "    axis=1,\n",
    ").sort_values(by=['date'])\n",
    "ordersBCummulative.columns = [\n",
    "    'date',\n",
    "    'ordersCummulativeB',\n",
    "    'revenueCummulativeB',\n",
    "]\n",
    "\n",
    "# сведем все таблицы вместе\n",
    "orders_data = (\n",
    "    ordersADaily.merge(\n",
    "        ordersBDaily, left_on='date', right_on='date', how='left'\n",
    "    )\n",
    "    .merge(ordersACummulative, left_on='date', right_on='date', how='left')\n",
    "    .merge(ordersBCummulative, left_on='date', right_on='date', how='left')\n",
    "    .merge(visitorsADaily, left_on='date', right_on='date', how='left')\n",
    "    .merge(visitorsBDaily, left_on='date', right_on='date', how='left')\n",
    "    .merge(visitorsACummulative, left_on='date', right_on='date', how='left')\n",
    "    .merge(visitorsBCummulative, left_on='date', right_on='date', how='left')\n",
    ")\n",
    "\n",
    "# посчитаем количество заказов для каждого пользователя в группе А\n",
    "ordersByUsersA = (\n",
    "    orders[orders['group'] == 'A']\n",
    "    .groupby('visitorId', as_index=False)\n",
    "    .agg({'transactionId': pd.Series.nunique})\n",
    ")\n",
    "ordersByUsersA.columns = ['visitorId', 'orders']\n",
    "ordersByUsersA\n",
    "\n",
    "# посчитаем количество заказов для каждого пользователя в группе В\n",
    "ordersByUsersB = (\n",
    "    orders[orders['group'] == 'B']\n",
    "    .groupby('visitorId', as_index=False)\n",
    "    .agg({'transactionId': pd.Series.nunique})\n",
    ")\n",
    "ordersByUsersB.columns = ['visitorId', 'orders']\n",
    "\n",
    "# создадим выборки, где каждый элемент — число заказов определённого пользователя\n",
    "sampleA = pd.concat([ordersByUsersA['orders'],\n",
    "                     pd.Series(0, index=np.arange(orders_data['visitorsPerDateA'].sum()\n",
    "                                                  - len(ordersByUsersA['orders'])), name='orders')],axis=0)\n",
    "\n",
    "sampleB = pd.concat([ordersByUsersB['orders'],\n",
    "                     pd.Series(0, index=np.arange(orders_data['visitorsPerDateB'].sum()\n",
    "                                                  - len(ordersByUsersB['orders'])), name='orders')],axis=0)\n",
    "\n",
    "# Применим тест Манна-Уитни для расчета P-value\n",
    "print(\"p-value = {0:.5f}\".format(stats.mannwhitneyu(sampleA, sampleB)[1]))\n",
    "\n",
    "# Вычислим и выведем относительное различие в среднем между группами\n",
    "print(\"Относительный прирост: {0:.2%}\".format(sampleB.mean() / sampleA.mean() - 1))\n"
   ]
  },
  {
   "cell_type": "markdown",
   "id": "b8ef7bb4",
   "metadata": {},
   "source": [
    "P-value значительно меньше 0.05, поэтому нулевую гипотезу отвергаем.   \n",
    "Анализ \"сырых\" данных говорит о том, что в среднем количестве заказов между группами есть статистические различия.   \n",
    "Относительный прирост среднего количества заказов группы В к среднему количеству заказов группы А равен 13.81%."
   ]
  },
  {
   "cell_type": "markdown",
   "id": "19e4a7ea",
   "metadata": {},
   "source": [
    "#### Посчитаем статистическую значимость различий в среднем чеке заказа между группами по «сырым» данным."
   ]
  },
  {
   "cell_type": "markdown",
   "id": "063cf774",
   "metadata": {},
   "source": [
    "Сформулируем гипотезы.    \n",
    "**Нулевая**: различий в среднем чеке между группами нет.   \n",
    "**Альтернативная**: различия в среднем между группами есть."
   ]
  },
  {
   "cell_type": "code",
   "execution_count": 33,
   "id": "d63114e3",
   "metadata": {
    "scrolled": true
   },
   "outputs": [
    {
     "name": "stdout",
     "output_type": "stream",
     "text": [
      "p-value = 0.729\n",
      "Относительный прирост: 25.87%\n"
     ]
    }
   ],
   "source": [
    "# Применим тест Манна-Уитни для расчета P-value\n",
    "print('p-value = {0:.3f}'.format(stats.mannwhitneyu(orders[orders['group']=='A']['revenue'], \n",
    "                                          orders[orders['group']=='B']['revenue'])[1]))\n",
    "\n",
    "# Вычислим и выведем относительное различие в среднем между группами\n",
    "print('Относительный прирост: {0:.2%}'.format(orders[orders['group']=='B']['revenue'].mean()\n",
    "                       /orders[orders['group']=='A']['revenue'].mean()-1)) "
   ]
  },
  {
   "cell_type": "markdown",
   "id": "f95fb0a4",
   "metadata": {},
   "source": [
    "P-value больше 0.05, поэтому нулевую гипотезу не отвергаем.   \n",
    "Анализ \"сырых\" данных говорит о том, что в среднем чеке между группами нет статистических различий.   \n",
    "Относительный прирост среднего чека группы В к среднему чеку группы А равен 25.87%. И т.к. наблюдаемые различия не являются значимыми при таком уровне значимости, то были получены случайно."
   ]
  },
  {
   "cell_type": "markdown",
   "id": "dacafd9b",
   "metadata": {},
   "source": [
    "#### Посчитаем статистическую значимость различий в среднем количестве заказов на посетителя между группами по «очищенным» данным."
   ]
  },
  {
   "cell_type": "markdown",
   "id": "271fd1ce",
   "metadata": {},
   "source": [
    "Примем за аномальных пользователей тех, кто совершил более четырех заказов, или совершил заказы на сумму свыше 58000. И удалим этих пользователей из исследуемой выборки."
   ]
  },
  {
   "cell_type": "code",
   "execution_count": 34,
   "id": "0906e829",
   "metadata": {
    "scrolled": false
   },
   "outputs": [
    {
     "name": "stdout",
     "output_type": "stream",
     "text": [
      "p-value = 0.014\n",
      "Относительный прирост: 15.33%\n"
     ]
    }
   ],
   "source": [
    "usersWithManyOrders = pd.concat(\n",
    "    [\n",
    "        ordersByUsersA[ordersByUsersA['orders'] > np.percentile(ordersByUsers['orders'], 99)]['visitorId'],\n",
    "        ordersByUsersB[ordersByUsersB['orders'] > np.percentile(ordersByUsers['orders'], 99)]['visitorId'],\n",
    "    ],\n",
    "    axis=0,\n",
    ")\n",
    "usersWithExpensiveOrders = orders[orders['revenue'] > np.percentile(orders['revenue'], 99)]['visitorId']\n",
    "abnormalUsers = (\n",
    "    pd.concat([usersWithManyOrders, usersWithExpensiveOrders], axis=0)\n",
    "    .drop_duplicates()\n",
    "    .sort_values()\n",
    ")\n",
    "\n",
    "sampleAFiltered = pd.concat(\n",
    "    [\n",
    "        ordersByUsersA[\n",
    "            np.logical_not(ordersByUsersA['visitorId'].isin(abnormalUsers))\n",
    "        ]['orders'],\n",
    "        pd.Series(\n",
    "            0,\n",
    "            index=np.arange(\n",
    "                orders_data['visitorsPerDateA'].sum() - len(ordersByUsersA['orders'])\n",
    "            ),\n",
    "            name='orders',\n",
    "        ),\n",
    "    ],\n",
    "    axis=0,\n",
    ")\n",
    "\n",
    "sampleBFiltered = pd.concat(\n",
    "    [\n",
    "        ordersByUsersB[\n",
    "            np.logical_not(ordersByUsersB['visitorId'].isin(abnormalUsers))\n",
    "        ]['orders'],\n",
    "        pd.Series(\n",
    "            0,\n",
    "            index=np.arange(\n",
    "                orders_data['visitorsPerDateB'].sum() - len(ordersByUsersB['orders'])\n",
    "            ),\n",
    "            name='orders',\n",
    "        ),\n",
    "    ],\n",
    "    axis=0,\n",
    ") \n",
    "\n",
    "print('p-value = {0:.3f}'.format(stats.mannwhitneyu(sampleAFiltered, sampleBFiltered)[1]))\n",
    "print('Относительный прирост: {0:.2%}'.format(sampleBFiltered.mean()/sampleAFiltered.mean()-1)) "
   ]
  },
  {
   "cell_type": "markdown",
   "id": "f8efa796",
   "metadata": {},
   "source": [
    "Как и в случае с \"сырыми\" данными, P-value значительно меньше 0.05, поэтому нулевую гипотезу отвергаем. Статистическая значимость достигнута.   \n",
    "Относительный прирост среднего количества заказов группы В к среднему количеству заказов группы А равен 15.33%."
   ]
  },
  {
   "cell_type": "markdown",
   "id": "01da7dca",
   "metadata": {},
   "source": [
    "#### Посчитаем статистическую значимость различий в среднем чеке заказа между группами по «очищенным» данным."
   ]
  },
  {
   "cell_type": "code",
   "execution_count": 35,
   "id": "e1a84b8e",
   "metadata": {},
   "outputs": [
    {
     "name": "stdout",
     "output_type": "stream",
     "text": [
      "p-value = 0.851\n",
      "Относительный прирост: -0.57%\n"
     ]
    }
   ],
   "source": [
    "print(\n",
    "    'p-value = {0:.3f}'.format(\n",
    "        stats.mannwhitneyu(\n",
    "            orders[\n",
    "                np.logical_and(\n",
    "                    orders['group'] == 'A',\n",
    "                    np.logical_not(orders['visitorId'].isin(abnormalUsers)),\n",
    "                )\n",
    "            ]['revenue'],\n",
    "            orders[\n",
    "                np.logical_and(\n",
    "                    orders['group'] == 'B',\n",
    "                    np.logical_not(orders['visitorId'].isin(abnormalUsers)),\n",
    "                )\n",
    "            ]['revenue'],\n",
    "        )[1]\n",
    "    )\n",
    ")\n",
    "\n",
    "print(\n",
    "    \"Относительный прирост: {0:.2%}\".format(\n",
    "        orders[\n",
    "            np.logical_and(\n",
    "                orders['group'] == 'B',\n",
    "                np.logical_not(orders['visitorId'].isin(abnormalUsers)),\n",
    "            )\n",
    "        ]['revenue'].mean()\n",
    "        / orders[\n",
    "            np.logical_and(\n",
    "                orders['group'] == 'A',\n",
    "                np.logical_not(orders['visitorId'].isin(abnormalUsers)),\n",
    "            )\n",
    "        ]['revenue'].mean()\n",
    "        - 1\n",
    "    )\n",
    ") "
   ]
  },
  {
   "cell_type": "markdown",
   "id": "b38943af",
   "metadata": {},
   "source": [
    "Как и в случае с \"сырыми\" данными, P-value больше 0.05, поэтому нулевую гипотезу не отвергаем. Статистическая значимость не достигнута.   \n",
    "Удаление выбросов показало, что относительное снижение среднего чека группы В к среднему чеку группы А равно 0.57%."
   ]
  },
  {
   "cell_type": "markdown",
   "id": "319405df",
   "metadata": {},
   "source": [
    "#### Примем решение по результатам теста."
   ]
  },
  {
   "cell_type": "markdown",
   "id": "0442a86c",
   "metadata": {},
   "source": [
    "По результатам теста получилось, что в группе В выросло среднее количество заказов на 15.33%, но в то же время средний чек снизился на 0.57% (по \"очищенным\" данным).   \n",
    "Статистически значимый рост среднего количества заказов дает рост общей выручки в группе В, несмотря на статистически незначимое небольшое снижение среднего чека.\n",
    "\n",
    "Можно принять решение остановить тест и зафиксировать победу группы В."
   ]
  },
  {
   "cell_type": "markdown",
   "id": "97cd5903",
   "metadata": {},
   "source": [
    "### Выводы.\n",
    "\n",
    "#### Приоритизация гипотез.\n",
    "\n",
    "В нашем распоряжении были 9 гипотез по увеличению выручки интернет-магазина с указанными параметрами Reach, Impact, Confidence, Effort. Для оценки их приоритизации нами были примененны фреймворки ICE и RICE.\n",
    "Таким образом, можно сделать следующие выводы:\n",
    "- наиболее перспективные гипотезы по методу ICE:\n",
    " 9. Запустить акцию, дающую скидку на товар в день рождения,\n",
    " 1. Добавить два новых канала привлечения трафика, что позволит привлекать на 30% больше пользователей,\n",
    " 8. Добавить форму подписки на все основные страницы, чтобы собрать базу клиентов для email-рассылок;\n",
    "- наиболее перспективные гипотезы по методу RICE:\n",
    " 8. Добавить форму подписки на все основные страницы, чтобы собрать базу клиентов для email-рассылок),\n",
    " 3. Добавить блоки рекомендаций товаров на сайт интернет магазина, чтобы повысить конверсию и средний чек заказа,\n",
    " 1. Добавить два новых канала привлечения трафика, что позволит привлекать на 30% больше пользователей, \n",
    " 7. Показать на главной странице баннеры с актуальными акциями и распродажами, чтобы увеличить конверсию;\n",
    "- параметр Reach может кардинально менять ситуацию при оценке приоритета гипотез.\n",
    "\n",
    "#### Анализ А/Б-теста.\n",
    "\n",
    "В нашем распоряжении были результаты А/В-теста двух групп с количеством уникальных пользователей 503 и 586 соответственно. После анализа результатов А/В теста можно сделать следующие выводы:\n",
    "- кумулятивная выручка у группы B концу месяца становится выше примерно в 1.5 раза из-за резкого скачка выручки после середины месяца. Но и без этого скачка Группа В лидирует по кумулятивной выручке, как мы выяснили в дальнейшем, это связано с ростом количества заказов;\n",
    "- размер среднего кумулятивного чека по группам сильно колеблется по дням, опять же после середины месяца виден резкий рост в группе В также из-за выбросов;\n",
    "- группа В лидирует по среднему количеству заказов и приходит к приросту около 13% к концу теста;\n",
    "- пользователи, сделавшие не более двух заказов, составляют 95% от всех пользователей. Пользователи с четырьмя и более заказами составляют 1% от всех пользователей. Так мы выбрали границу для определения аномальных заказов: пользователи с более, чем четырьмя заказами;\n",
    "- не более, чем у 5% заказов стоимость выше 28000. И не более, чем у 1% заказов стоимость выше 58233.2. Так мы выбрали границу для определения аномальных пользователей: заказы со стоимость выше 58233;\n",
    "- Далее мы посчитали статистическую значимость различий в среднем количестве заказов на посетителя и среднем чеке между группами по «сырым» данным. Получилось, что в среднем количестве заказов между группами есть статистические различия, а относительный прирост среднего количества заказов группы В к среднему количеству заказов группы А равен 13.81%. И в среднем чеке между группами нет статистических различий, впрочем, относительный прирост среднего чека группы В к среднему чеку группы А равен 25.87%;\n",
    "- Далее мы проделали аналогичную работу, но уже с очищенными данными. И получилось, что среднем количестве заказов между группами также есть статистические различия, а относительный прирост среднего количества заказов группы В к среднему количеству заказов группы А равен 15.33%. И в среднем чеке между группами нет статистических различий, впрочем, относительный снижение среднего чека группы В к среднему чеку группы А равно 0.57%.\n",
    "\n",
    "Принято решение остановить тест и зафиксировать победу группы В."
   ]
  }
 ],
 "metadata": {
  "ExecuteTimeLog": [
   {
    "duration": 1014,
    "start_time": "2023-04-19T15:32:25.338Z"
   },
   {
    "duration": 2050,
    "start_time": "2023-04-19T15:32:26.354Z"
   },
   {
    "duration": 139,
    "start_time": "2023-04-19T15:32:28.406Z"
   },
   {
    "duration": 104,
    "start_time": "2023-04-19T15:32:28.548Z"
   },
   {
    "duration": 489,
    "start_time": "2023-04-19T15:32:28.654Z"
   },
   {
    "duration": 142,
    "start_time": "2023-04-19T15:32:29.145Z"
   },
   {
    "duration": 6,
    "start_time": "2023-04-19T15:32:29.289Z"
   },
   {
    "duration": 19,
    "start_time": "2023-04-19T15:32:29.296Z"
   },
   {
    "duration": 7,
    "start_time": "2023-04-19T15:32:29.317Z"
   },
   {
    "duration": 9,
    "start_time": "2023-04-19T15:32:29.337Z"
   },
   {
    "duration": 13,
    "start_time": "2023-04-19T15:32:29.348Z"
   },
   {
    "duration": 17,
    "start_time": "2023-04-19T15:32:29.363Z"
   },
   {
    "duration": 16,
    "start_time": "2023-04-19T15:32:29.382Z"
   },
   {
    "duration": 546,
    "start_time": "2023-04-19T15:32:29.400Z"
   },
   {
    "duration": 30,
    "start_time": "2023-04-19T15:32:29.947Z"
   },
   {
    "duration": 37,
    "start_time": "2023-04-19T15:32:29.979Z"
   },
   {
    "duration": 37,
    "start_time": "2023-04-19T15:32:30.035Z"
   },
   {
    "duration": 36,
    "start_time": "2023-04-19T15:32:30.074Z"
   },
   {
    "duration": 5,
    "start_time": "2023-04-19T15:32:30.111Z"
   },
   {
    "duration": 10,
    "start_time": "2023-04-19T15:32:30.137Z"
   },
   {
    "duration": 999,
    "start_time": "2023-04-19T15:32:30.149Z"
   },
   {
    "duration": 35,
    "start_time": "2023-04-19T15:32:31.149Z"
   },
   {
    "duration": 31,
    "start_time": "2023-04-19T15:32:31.186Z"
   },
   {
    "duration": 2166,
    "start_time": "2023-04-19T15:32:31.218Z"
   },
   {
    "duration": 818,
    "start_time": "2023-04-19T15:32:33.385Z"
   },
   {
    "duration": 1572,
    "start_time": "2023-04-19T15:32:34.204Z"
   },
   {
    "duration": 994,
    "start_time": "2023-04-19T15:32:35.778Z"
   },
   {
    "duration": 1951,
    "start_time": "2023-04-19T15:32:36.775Z"
   },
   {
    "duration": 1069,
    "start_time": "2023-04-19T15:32:38.727Z"
   },
   {
    "duration": 1834,
    "start_time": "2023-04-19T15:32:39.798Z"
   },
   {
    "duration": 1295,
    "start_time": "2023-04-19T15:32:41.633Z"
   },
   {
    "duration": 2246,
    "start_time": "2023-04-19T15:32:42.929Z"
   },
   {
    "duration": 2269,
    "start_time": "2023-04-19T15:32:45.177Z"
   },
   {
    "duration": 2243,
    "start_time": "2023-04-19T15:32:47.448Z"
   },
   {
    "duration": 2763,
    "start_time": "2023-04-19T15:32:49.693Z"
   },
   {
    "duration": 820,
    "start_time": "2023-04-23T20:04:59.951Z"
   },
   {
    "duration": 2157,
    "start_time": "2023-04-23T20:05:00.773Z"
   },
   {
    "duration": 27,
    "start_time": "2023-04-23T20:05:02.932Z"
   },
   {
    "duration": 91,
    "start_time": "2023-04-23T20:05:02.961Z"
   },
   {
    "duration": 10,
    "start_time": "2023-04-23T20:05:03.053Z"
   },
   {
    "duration": 208,
    "start_time": "2023-04-23T20:05:03.065Z"
   },
   {
    "duration": 155,
    "start_time": "2023-04-23T20:05:03.274Z"
   },
   {
    "duration": 14,
    "start_time": "2023-04-23T20:05:03.431Z"
   },
   {
    "duration": 64,
    "start_time": "2023-04-23T20:05:03.447Z"
   },
   {
    "duration": 9,
    "start_time": "2023-04-23T20:05:03.515Z"
   },
   {
    "duration": 9,
    "start_time": "2023-04-23T20:05:03.525Z"
   },
   {
    "duration": 13,
    "start_time": "2023-04-23T20:05:03.535Z"
   },
   {
    "duration": 18,
    "start_time": "2023-04-23T20:05:03.550Z"
   },
   {
    "duration": 46,
    "start_time": "2023-04-23T20:05:03.569Z"
   },
   {
    "duration": 10,
    "start_time": "2023-04-23T20:05:03.617Z"
   },
   {
    "duration": 23,
    "start_time": "2023-04-23T20:05:03.629Z"
   },
   {
    "duration": 6,
    "start_time": "2023-04-23T20:05:03.654Z"
   },
   {
    "duration": 9,
    "start_time": "2023-04-23T20:05:03.662Z"
   },
   {
    "duration": 30,
    "start_time": "2023-04-23T20:05:03.673Z"
   },
   {
    "duration": 33,
    "start_time": "2023-04-23T20:05:03.704Z"
   },
   {
    "duration": 30,
    "start_time": "2023-04-23T20:05:03.739Z"
   },
   {
    "duration": 27,
    "start_time": "2023-04-23T20:05:03.771Z"
   },
   {
    "duration": 18,
    "start_time": "2023-04-23T20:05:03.800Z"
   },
   {
    "duration": 487,
    "start_time": "2023-04-23T20:05:03.820Z"
   },
   {
    "duration": 5,
    "start_time": "2023-04-23T20:05:04.312Z"
   },
   {
    "duration": 36,
    "start_time": "2023-04-23T20:05:04.318Z"
   },
   {
    "duration": 60,
    "start_time": "2023-04-23T20:05:04.356Z"
   },
   {
    "duration": 38,
    "start_time": "2023-04-23T20:05:04.419Z"
   },
   {
    "duration": 4,
    "start_time": "2023-04-23T20:05:04.458Z"
   },
   {
    "duration": 14,
    "start_time": "2023-04-23T20:05:04.463Z"
   },
   {
    "duration": 981,
    "start_time": "2023-04-23T20:05:04.479Z"
   },
   {
    "duration": 26,
    "start_time": "2023-04-23T20:05:05.462Z"
   },
   {
    "duration": 50,
    "start_time": "2023-04-23T20:05:05.490Z"
   },
   {
    "duration": 11,
    "start_time": "2023-04-23T20:05:05.542Z"
   },
   {
    "duration": 2124,
    "start_time": "2023-04-23T20:05:05.555Z"
   },
   {
    "duration": 859,
    "start_time": "2023-04-23T20:05:07.680Z"
   },
   {
    "duration": 1590,
    "start_time": "2023-04-23T20:05:08.540Z"
   },
   {
    "duration": 1020,
    "start_time": "2023-04-23T20:05:10.132Z"
   },
   {
    "duration": 1849,
    "start_time": "2023-04-23T20:05:11.154Z"
   },
   {
    "duration": 1051,
    "start_time": "2023-04-23T20:05:13.012Z"
   },
   {
    "duration": 1709,
    "start_time": "2023-04-23T20:05:14.065Z"
   },
   {
    "duration": 1171,
    "start_time": "2023-04-23T20:05:15.776Z"
   },
   {
    "duration": 2176,
    "start_time": "2023-04-23T20:05:16.949Z"
   },
   {
    "duration": 2292,
    "start_time": "2023-04-23T20:05:19.127Z"
   },
   {
    "duration": 2460,
    "start_time": "2023-04-23T20:05:21.421Z"
   },
   {
    "duration": 2877,
    "start_time": "2023-04-23T20:05:23.883Z"
   },
   {
    "duration": 28,
    "start_time": "2023-04-23T20:05:26.763Z"
   },
   {
    "duration": 60,
    "start_time": "2023-04-23T20:05:37.795Z"
   },
   {
    "duration": 1163,
    "start_time": "2023-05-19T10:13:40.514Z"
   },
   {
    "duration": 69,
    "start_time": "2023-05-19T10:13:41.680Z"
   },
   {
    "duration": 12,
    "start_time": "2023-05-19T10:13:41.751Z"
   },
   {
    "duration": 13,
    "start_time": "2023-05-19T10:13:41.765Z"
   },
   {
    "duration": 9,
    "start_time": "2023-05-19T10:13:41.779Z"
   },
   {
    "duration": 15,
    "start_time": "2023-05-19T10:13:41.789Z"
   },
   {
    "duration": 31,
    "start_time": "2023-05-19T10:13:41.806Z"
   },
   {
    "duration": 9,
    "start_time": "2023-05-19T10:13:41.839Z"
   },
   {
    "duration": 299,
    "start_time": "2023-05-19T10:13:41.850Z"
   },
   {
    "duration": 8,
    "start_time": "2023-05-19T10:13:42.152Z"
   },
   {
    "duration": 19,
    "start_time": "2023-05-19T10:13:42.161Z"
   },
   {
    "duration": 16,
    "start_time": "2023-05-19T10:13:42.181Z"
   },
   {
    "duration": 14,
    "start_time": "2023-05-19T10:13:42.199Z"
   },
   {
    "duration": 25,
    "start_time": "2023-05-19T10:13:42.214Z"
   },
   {
    "duration": 12,
    "start_time": "2023-05-19T10:13:42.241Z"
   },
   {
    "duration": 8,
    "start_time": "2023-05-19T10:13:42.254Z"
   },
   {
    "duration": 16,
    "start_time": "2023-05-19T10:13:42.264Z"
   },
   {
    "duration": 7,
    "start_time": "2023-05-19T10:13:42.281Z"
   },
   {
    "duration": 13,
    "start_time": "2023-05-19T10:13:42.290Z"
   },
   {
    "duration": 572,
    "start_time": "2023-05-19T10:13:42.320Z"
   },
   {
    "duration": 198,
    "start_time": "2023-05-19T10:13:42.893Z"
   },
   {
    "duration": 304,
    "start_time": "2023-05-19T10:13:43.093Z"
   },
   {
    "duration": 174,
    "start_time": "2023-05-19T10:13:43.400Z"
   },
   {
    "duration": 132,
    "start_time": "2023-05-19T10:13:43.576Z"
   },
   {
    "duration": 0,
    "start_time": "2023-05-19T10:13:43.710Z"
   },
   {
    "duration": 0,
    "start_time": "2023-05-19T10:13:43.711Z"
   },
   {
    "duration": 0,
    "start_time": "2023-05-19T10:13:43.717Z"
   },
   {
    "duration": 0,
    "start_time": "2023-05-19T10:13:43.717Z"
   },
   {
    "duration": 0,
    "start_time": "2023-05-19T10:13:43.718Z"
   },
   {
    "duration": 0,
    "start_time": "2023-05-19T10:13:43.718Z"
   },
   {
    "duration": 0,
    "start_time": "2023-05-19T10:13:43.719Z"
   },
   {
    "duration": 0,
    "start_time": "2023-05-19T10:13:43.724Z"
   },
   {
    "duration": 0,
    "start_time": "2023-05-19T10:13:43.724Z"
   },
   {
    "duration": 111,
    "start_time": "2023-05-19T10:16:21.984Z"
   },
   {
    "duration": 6,
    "start_time": "2023-05-19T10:16:22.752Z"
   },
   {
    "duration": 120,
    "start_time": "2023-05-19T10:16:23.295Z"
   },
   {
    "duration": 5,
    "start_time": "2023-05-19T10:16:23.889Z"
   },
   {
    "duration": 391,
    "start_time": "2023-05-19T10:16:24.640Z"
   },
   {
    "duration": 10,
    "start_time": "2023-05-19T10:16:25.564Z"
   },
   {
    "duration": 53,
    "start_time": "2023-05-19T10:16:26.230Z"
   },
   {
    "duration": 13,
    "start_time": "2023-05-19T10:16:26.676Z"
   },
   {
    "duration": 10,
    "start_time": "2023-05-19T10:16:27.357Z"
   },
   {
    "duration": 86,
    "start_time": "2023-05-19T10:46:43.828Z"
   },
   {
    "duration": 1776,
    "start_time": "2023-05-19T10:46:48.098Z"
   },
   {
    "duration": 109,
    "start_time": "2023-05-19T10:46:49.878Z"
   },
   {
    "duration": 27,
    "start_time": "2023-05-19T10:46:49.993Z"
   },
   {
    "duration": 18,
    "start_time": "2023-05-19T10:46:50.028Z"
   },
   {
    "duration": 58,
    "start_time": "2023-05-19T10:46:50.048Z"
   },
   {
    "duration": 34,
    "start_time": "2023-05-19T10:46:50.108Z"
   },
   {
    "duration": 36,
    "start_time": "2023-05-19T10:46:50.144Z"
   },
   {
    "duration": 27,
    "start_time": "2023-05-19T10:46:50.182Z"
   },
   {
    "duration": 302,
    "start_time": "2023-05-19T10:46:50.211Z"
   },
   {
    "duration": 14,
    "start_time": "2023-05-19T10:46:50.516Z"
   },
   {
    "duration": 33,
    "start_time": "2023-05-19T10:46:50.533Z"
   },
   {
    "duration": 37,
    "start_time": "2023-05-19T10:46:50.568Z"
   },
   {
    "duration": 35,
    "start_time": "2023-05-19T10:46:50.607Z"
   },
   {
    "duration": 27,
    "start_time": "2023-05-19T10:46:50.646Z"
   },
   {
    "duration": 27,
    "start_time": "2023-05-19T10:46:50.675Z"
   },
   {
    "duration": 23,
    "start_time": "2023-05-19T10:46:50.704Z"
   },
   {
    "duration": 28,
    "start_time": "2023-05-19T10:46:50.731Z"
   },
   {
    "duration": 27,
    "start_time": "2023-05-19T10:46:50.761Z"
   },
   {
    "duration": 26,
    "start_time": "2023-05-19T10:46:50.791Z"
   },
   {
    "duration": 881,
    "start_time": "2023-05-19T10:46:50.820Z"
   },
   {
    "duration": 317,
    "start_time": "2023-05-19T10:46:51.703Z"
   },
   {
    "duration": 451,
    "start_time": "2023-05-19T10:46:52.022Z"
   },
   {
    "duration": 266,
    "start_time": "2023-05-19T10:46:52.476Z"
   },
   {
    "duration": 109,
    "start_time": "2023-05-19T10:46:52.746Z"
   },
   {
    "duration": 0,
    "start_time": "2023-05-19T10:46:52.857Z"
   },
   {
    "duration": 0,
    "start_time": "2023-05-19T10:46:52.859Z"
   },
   {
    "duration": 0,
    "start_time": "2023-05-19T10:46:52.861Z"
   },
   {
    "duration": 0,
    "start_time": "2023-05-19T10:46:52.863Z"
   },
   {
    "duration": 0,
    "start_time": "2023-05-19T10:46:52.865Z"
   },
   {
    "duration": 0,
    "start_time": "2023-05-19T10:46:52.866Z"
   },
   {
    "duration": 0,
    "start_time": "2023-05-19T10:46:52.878Z"
   },
   {
    "duration": 0,
    "start_time": "2023-05-19T10:46:52.880Z"
   },
   {
    "duration": 0,
    "start_time": "2023-05-19T10:46:52.882Z"
   },
   {
    "duration": 68,
    "start_time": "2023-05-20T19:05:29.248Z"
   }
  ],
  "kernelspec": {
   "display_name": "Python 3 (ipykernel)",
   "language": "python",
   "name": "python3"
  },
  "language_info": {
   "codemirror_mode": {
    "name": "ipython",
    "version": 3
   },
   "file_extension": ".py",
   "mimetype": "text/x-python",
   "name": "python",
   "nbconvert_exporter": "python",
   "pygments_lexer": "ipython3",
   "version": "3.9.13"
  },
  "toc": {
   "base_numbering": 1,
   "nav_menu": {},
   "number_sections": true,
   "sideBar": true,
   "skip_h1_title": true,
   "title_cell": "Table of Contents",
   "title_sidebar": "Contents",
   "toc_cell": true,
   "toc_position": {
    "height": "calc(100% - 180px)",
    "left": "10px",
    "top": "150px",
    "width": "501px"
   },
   "toc_section_display": true,
   "toc_window_display": false
  }
 },
 "nbformat": 4,
 "nbformat_minor": 5
}
